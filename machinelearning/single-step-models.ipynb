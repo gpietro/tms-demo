{
 "cells": [
  {
   "cell_type": "code",
   "execution_count": 423,
   "id": "welcome-norfolk",
   "metadata": {},
   "outputs": [],
   "source": [
    "import os\n",
    "import datetime\n",
    "\n",
    "import IPython\n",
    "import IPython.display\n",
    "\n",
    "from confluent_kafka import avro, Consumer, KafkaError, KafkaException\n",
    "from confluent_kafka.avro import CachedSchemaRegistryClient\n",
    "from confluent_kafka.avro.serializer.message_serializer import MessageSerializer as AvroSerde\n",
    "\n",
    "import json\n",
    "import pandas as pd\n",
    "import seaborn as sns\n",
    "import tensorflow as tf\n",
    "\n",
    "import matplotlib\n",
    "\n",
    "import numpy as np\n",
    "\n",
    "from tqdm import tqdm"
   ]
  },
  {
   "cell_type": "code",
   "execution_count": 2,
   "id": "designing-portland",
   "metadata": {},
   "outputs": [
    {
     "name": "stderr",
     "output_type": "stream",
     "text": [
      "/Users/samisaily/.pyenv/versions/tms-demo/lib/python3.7/site-packages/ipykernel/__main__.py:1: DeprecationWarning: CachedSchemaRegistry constructor is being deprecated. Use CachedSchemaRegistryClient(dict: config) instead. Existing params ca_location, cert_location and key_location will be replaced with their librdkafka equivalents as keys in the conf dict: `ssl.ca.location`, `ssl.certificate.location` and `ssl.key.location` respectively\n",
      "  if __name__ == '__main__':\n"
     ]
    }
   ],
   "source": [
    "schema_registry = CachedSchemaRegistryClient(os.getenv(\"SCHEMA_REGISTRY\"))\n",
    "avro_serde = AvroSerde(schema_registry)\n",
    "deserialize_avro = avro_serde.decode_message"
   ]
  },
  {
   "cell_type": "code",
   "execution_count": null,
   "id": "automatic-chance",
   "metadata": {},
   "outputs": [],
   "source": []
  },
  {
   "cell_type": "code",
   "execution_count": 311,
   "id": "soviet-fruit",
   "metadata": {},
   "outputs": [],
   "source": [
    "def create_client():    \n",
    "\n",
    "    consumer_config = {\"bootstrap.servers\": os.getenv(\"BOOTSTRAP_SERVERS\"),                        \n",
    "                        \"group.id\": \"sami-local-test-6\",\n",
    "                        \"max.poll.interval.ms\": 30000,\n",
    "                        \"session.timeout.ms\": 20000,\n",
    "                        \"default.topic.config\": {\"auto.offset.reset\": \"earliest\"},\n",
    "                        \"security.protocol\": \"SSL\",\n",
    "                        \"ssl.ca.location\": \"processing/ca.pem\",\n",
    "                        \"ssl.certificate.location\": \"processing/service.cert\",\n",
    "                        \"ssl.key.location\": \"processing/service.key\"\n",
    "                       }\n",
    "\n",
    "    return Consumer(consumer_config)  "
   ]
  },
  {
   "cell_type": "code",
   "execution_count": null,
   "id": "forty-sport",
   "metadata": {},
   "outputs": [],
   "source": []
  },
  {
   "cell_type": "code",
   "execution_count": 315,
   "id": "outstanding-progress",
   "metadata": {},
   "outputs": [],
   "source": [
    "training_dict = []\n",
    "def consume_records():\n",
    "    client = create_client()\n",
    "    client.subscribe([\"observations.weather.multivariate\"])\n",
    "    i = 0\n",
    "    for i in tqdm(range(200000)):\n",
    "        msg = client.poll(1)\n",
    "        if msg is None: continue\n",
    "        \n",
    "        if msg.error():\n",
    "            if msg.error().code() == KafkaError._PARTITION_EOF:\n",
    "                # End of partition event\n",
    "                sys.stderr.write('%% %s [%d] reached end at offset %d\\n' %\n",
    "                                 (msg.topic(), msg.partition(), msg.offset()))\n",
    "            elif msg.error():\n",
    "                raise KafkaException(msg.error())\n",
    "        else:\n",
    "            value = deserialize_avro(message=msg.value(), is_key=False)\n",
    "            training_dict.append(value)\n",
    "            pass\n",
    "    client.close()"
   ]
  },
  {
   "cell_type": "code",
   "execution_count": 316,
   "id": "nasty-modem",
   "metadata": {},
   "outputs": [
    {
     "name": "stderr",
     "output_type": "stream",
     "text": [
      " 77%|███████▋  | 153400/200000 [01:26<00:26, 1765.11it/s]\n"
     ]
    },
    {
     "ename": "KeyboardInterrupt",
     "evalue": "",
     "output_type": "error",
     "traceback": [
      "\u001b[0;31m---------------------------------------------------------------------------\u001b[0m",
      "\u001b[0;31mKeyboardInterrupt\u001b[0m                         Traceback (most recent call last)",
      "\u001b[0;32m<ipython-input-316-3d6e1a7c6a23>\u001b[0m in \u001b[0;36m<module>\u001b[0;34m\u001b[0m\n\u001b[0;32m----> 1\u001b[0;31m \u001b[0mconsume_records\u001b[0m\u001b[0;34m(\u001b[0m\u001b[0;34m)\u001b[0m\u001b[0;34m\u001b[0m\u001b[0;34m\u001b[0m\u001b[0m\n\u001b[0m",
      "\u001b[0;32m<ipython-input-315-f8b5bf18b29e>\u001b[0m in \u001b[0;36mconsume_records\u001b[0;34m()\u001b[0m\n\u001b[1;32m      5\u001b[0m     \u001b[0mi\u001b[0m \u001b[0;34m=\u001b[0m \u001b[0;36m0\u001b[0m\u001b[0;34m\u001b[0m\u001b[0;34m\u001b[0m\u001b[0m\n\u001b[1;32m      6\u001b[0m     \u001b[0;32mfor\u001b[0m \u001b[0mi\u001b[0m \u001b[0;32min\u001b[0m \u001b[0mtqdm\u001b[0m\u001b[0;34m(\u001b[0m\u001b[0mrange\u001b[0m\u001b[0;34m(\u001b[0m\u001b[0;36m200000\u001b[0m\u001b[0;34m)\u001b[0m\u001b[0;34m)\u001b[0m\u001b[0;34m:\u001b[0m\u001b[0;34m\u001b[0m\u001b[0;34m\u001b[0m\u001b[0m\n\u001b[0;32m----> 7\u001b[0;31m         \u001b[0mmsg\u001b[0m \u001b[0;34m=\u001b[0m \u001b[0mclient\u001b[0m\u001b[0;34m.\u001b[0m\u001b[0mpoll\u001b[0m\u001b[0;34m(\u001b[0m\u001b[0;36m1\u001b[0m\u001b[0;34m)\u001b[0m\u001b[0;34m\u001b[0m\u001b[0;34m\u001b[0m\u001b[0m\n\u001b[0m\u001b[1;32m      8\u001b[0m         \u001b[0;32mif\u001b[0m \u001b[0mmsg\u001b[0m \u001b[0;32mis\u001b[0m \u001b[0;32mNone\u001b[0m\u001b[0;34m:\u001b[0m \u001b[0;32mcontinue\u001b[0m\u001b[0;34m\u001b[0m\u001b[0;34m\u001b[0m\u001b[0m\n\u001b[1;32m      9\u001b[0m \u001b[0;34m\u001b[0m\u001b[0m\n",
      "\u001b[0;31mKeyboardInterrupt\u001b[0m: "
     ]
    }
   ],
   "source": [
    "consume_records()"
   ]
  },
  {
   "cell_type": "code",
   "execution_count": 430,
   "id": "domestic-delaware",
   "metadata": {},
   "outputs": [],
   "source": [
    "df = pd.json_normalize(training_dict)\n",
    "df['measuredTime'] = pd.to_datetime(df['measuredTime'] * 1000 * 1000)"
   ]
  },
  {
   "cell_type": "code",
   "execution_count": 318,
   "id": "piano-mauritius",
   "metadata": {},
   "outputs": [
    {
     "data": {
      "text/html": [
       "<div>\n",
       "<style scoped>\n",
       "    .dataframe tbody tr th:only-of-type {\n",
       "        vertical-align: middle;\n",
       "    }\n",
       "\n",
       "    .dataframe tbody tr th {\n",
       "        vertical-align: top;\n",
       "    }\n",
       "\n",
       "    .dataframe thead th {\n",
       "        text-align: right;\n",
       "    }\n",
       "</style>\n",
       "<table border=\"1\" class=\"dataframe\">\n",
       "  <thead>\n",
       "    <tr style=\"text-align: right;\">\n",
       "      <th></th>\n",
       "      <th>roadStationId</th>\n",
       "      <th>measurements.48</th>\n",
       "      <th>measurements.49</th>\n",
       "      <th>measurements.91</th>\n",
       "      <th>measurements.92</th>\n",
       "      <th>measurements.93</th>\n",
       "      <th>measurements.50</th>\n",
       "      <th>measurements.51</th>\n",
       "      <th>measurements.52</th>\n",
       "      <th>measurements.53</th>\n",
       "      <th>...</th>\n",
       "      <th>measurements.136</th>\n",
       "      <th>measurements.180</th>\n",
       "      <th>measurements.181</th>\n",
       "      <th>measurements.94</th>\n",
       "      <th>measurements.172</th>\n",
       "      <th>measurements.19</th>\n",
       "      <th>measurements.150</th>\n",
       "      <th>measurements.147</th>\n",
       "      <th>measurements.148</th>\n",
       "      <th>measurements.149</th>\n",
       "    </tr>\n",
       "  </thead>\n",
       "  <tbody>\n",
       "    <tr>\n",
       "      <th>count</th>\n",
       "      <td>153376.000000</td>\n",
       "      <td>140191.000000</td>\n",
       "      <td>141619.000000</td>\n",
       "      <td>130290.000000</td>\n",
       "      <td>130279.000000</td>\n",
       "      <td>130260.0</td>\n",
       "      <td>142862.000000</td>\n",
       "      <td>72839.000000</td>\n",
       "      <td>78889.000000</td>\n",
       "      <td>72701.000000</td>\n",
       "      <td>...</td>\n",
       "      <td>65282.000000</td>\n",
       "      <td>65320.000000</td>\n",
       "      <td>65267.000000</td>\n",
       "      <td>47853.000000</td>\n",
       "      <td>3131.000000</td>\n",
       "      <td>4173.000000</td>\n",
       "      <td>1276.000000</td>\n",
       "      <td>1277.000000</td>\n",
       "      <td>1277.000000</td>\n",
       "      <td>1276.000000</td>\n",
       "    </tr>\n",
       "    <tr>\n",
       "      <th>mean</th>\n",
       "      <td>6114.669720</td>\n",
       "      <td>17.103566</td>\n",
       "      <td>3.059031</td>\n",
       "      <td>0.122404</td>\n",
       "      <td>0.122414</td>\n",
       "      <td>0.0</td>\n",
       "      <td>0.127769</td>\n",
       "      <td>0.138275</td>\n",
       "      <td>0.021767</td>\n",
       "      <td>0.025313</td>\n",
       "      <td>...</td>\n",
       "      <td>0.019577</td>\n",
       "      <td>33.841687</td>\n",
       "      <td>0.720601</td>\n",
       "      <td>0.019727</td>\n",
       "      <td>-12.764229</td>\n",
       "      <td>992.482818</td>\n",
       "      <td>31.640282</td>\n",
       "      <td>64.128426</td>\n",
       "      <td>14.926390</td>\n",
       "      <td>15.791536</td>\n",
       "    </tr>\n",
       "    <tr>\n",
       "      <th>std</th>\n",
       "      <td>4957.731621</td>\n",
       "      <td>1.102272</td>\n",
       "      <td>2.009813</td>\n",
       "      <td>0.679267</td>\n",
       "      <td>0.679295</td>\n",
       "      <td>0.0</td>\n",
       "      <td>0.355355</td>\n",
       "      <td>0.411765</td>\n",
       "      <td>0.106304</td>\n",
       "      <td>0.142889</td>\n",
       "      <td>...</td>\n",
       "      <td>0.278985</td>\n",
       "      <td>66.052084</td>\n",
       "      <td>0.168820</td>\n",
       "      <td>0.144949</td>\n",
       "      <td>3.481170</td>\n",
       "      <td>114.373663</td>\n",
       "      <td>47.647002</td>\n",
       "      <td>121.535361</td>\n",
       "      <td>17.626771</td>\n",
       "      <td>19.418458</td>\n",
       "    </tr>\n",
       "    <tr>\n",
       "      <th>min</th>\n",
       "      <td>1001.000000</td>\n",
       "      <td>16.000000</td>\n",
       "      <td>-10.000000</td>\n",
       "      <td>0.000000</td>\n",
       "      <td>0.000000</td>\n",
       "      <td>0.0</td>\n",
       "      <td>0.000000</td>\n",
       "      <td>0.000000</td>\n",
       "      <td>0.000000</td>\n",
       "      <td>0.000000</td>\n",
       "      <td>...</td>\n",
       "      <td>0.000000</td>\n",
       "      <td>0.000000</td>\n",
       "      <td>0.100000</td>\n",
       "      <td>0.000000</td>\n",
       "      <td>-23.900000</td>\n",
       "      <td>220.700000</td>\n",
       "      <td>0.000000</td>\n",
       "      <td>0.000000</td>\n",
       "      <td>0.000000</td>\n",
       "      <td>0.000000</td>\n",
       "    </tr>\n",
       "    <tr>\n",
       "      <th>25%</th>\n",
       "      <td>2019.000000</td>\n",
       "      <td>16.000000</td>\n",
       "      <td>1.900000</td>\n",
       "      <td>0.000000</td>\n",
       "      <td>0.000000</td>\n",
       "      <td>0.0</td>\n",
       "      <td>0.000000</td>\n",
       "      <td>0.000000</td>\n",
       "      <td>0.000000</td>\n",
       "      <td>0.000000</td>\n",
       "      <td>...</td>\n",
       "      <td>0.000000</td>\n",
       "      <td>1.000000</td>\n",
       "      <td>0.680000</td>\n",
       "      <td>0.000000</td>\n",
       "      <td>-14.900000</td>\n",
       "      <td>1002.700000</td>\n",
       "      <td>5.000000</td>\n",
       "      <td>4.000000</td>\n",
       "      <td>2.000000</td>\n",
       "      <td>0.000000</td>\n",
       "    </tr>\n",
       "    <tr>\n",
       "      <th>50%</th>\n",
       "      <td>4049.000000</td>\n",
       "      <td>17.000000</td>\n",
       "      <td>2.900000</td>\n",
       "      <td>0.000000</td>\n",
       "      <td>0.000000</td>\n",
       "      <td>0.0</td>\n",
       "      <td>0.010000</td>\n",
       "      <td>0.010000</td>\n",
       "      <td>0.000000</td>\n",
       "      <td>0.000000</td>\n",
       "      <td>...</td>\n",
       "      <td>0.000000</td>\n",
       "      <td>1.000000</td>\n",
       "      <td>0.820000</td>\n",
       "      <td>0.000000</td>\n",
       "      <td>-12.100000</td>\n",
       "      <td>1010.400000</td>\n",
       "      <td>16.000000</td>\n",
       "      <td>32.000000</td>\n",
       "      <td>6.000000</td>\n",
       "      <td>10.000000</td>\n",
       "    </tr>\n",
       "    <tr>\n",
       "      <th>75%</th>\n",
       "      <td>10040.000000</td>\n",
       "      <td>18.000000</td>\n",
       "      <td>4.100000</td>\n",
       "      <td>0.000000</td>\n",
       "      <td>0.000000</td>\n",
       "      <td>0.0</td>\n",
       "      <td>0.080000</td>\n",
       "      <td>0.050000</td>\n",
       "      <td>0.000000</td>\n",
       "      <td>0.000000</td>\n",
       "      <td>...</td>\n",
       "      <td>0.000000</td>\n",
       "      <td>6.000000</td>\n",
       "      <td>0.820000</td>\n",
       "      <td>0.000000</td>\n",
       "      <td>-10.000000</td>\n",
       "      <td>1018.600000</td>\n",
       "      <td>42.000000</td>\n",
       "      <td>44.000000</td>\n",
       "      <td>38.000000</td>\n",
       "      <td>26.000000</td>\n",
       "    </tr>\n",
       "    <tr>\n",
       "      <th>max</th>\n",
       "      <td>19946.000000</td>\n",
       "      <td>19.000000</td>\n",
       "      <td>25.200000</td>\n",
       "      <td>4.000000</td>\n",
       "      <td>4.000000</td>\n",
       "      <td>0.0</td>\n",
       "      <td>2.650000</td>\n",
       "      <td>2.570000</td>\n",
       "      <td>2.000000</td>\n",
       "      <td>2.600000</td>\n",
       "      <td>...</td>\n",
       "      <td>4.000000</td>\n",
       "      <td>401.000000</td>\n",
       "      <td>0.820000</td>\n",
       "      <td>2.000000</td>\n",
       "      <td>-5.400000</td>\n",
       "      <td>1025.100000</td>\n",
       "      <td>181.000000</td>\n",
       "      <td>466.000000</td>\n",
       "      <td>69.000000</td>\n",
       "      <td>60.000000</td>\n",
       "    </tr>\n",
       "  </tbody>\n",
       "</table>\n",
       "<p>8 rows × 74 columns</p>\n",
       "</div>"
      ],
      "text/plain": [
       "       roadStationId  measurements.48  measurements.49  measurements.91  \\\n",
       "count  153376.000000    140191.000000    141619.000000    130290.000000   \n",
       "mean     6114.669720        17.103566         3.059031         0.122404   \n",
       "std      4957.731621         1.102272         2.009813         0.679267   \n",
       "min      1001.000000        16.000000       -10.000000         0.000000   \n",
       "25%      2019.000000        16.000000         1.900000         0.000000   \n",
       "50%      4049.000000        17.000000         2.900000         0.000000   \n",
       "75%     10040.000000        18.000000         4.100000         0.000000   \n",
       "max     19946.000000        19.000000        25.200000         4.000000   \n",
       "\n",
       "       measurements.92  measurements.93  measurements.50  measurements.51  \\\n",
       "count    130279.000000         130260.0    142862.000000     72839.000000   \n",
       "mean          0.122414              0.0         0.127769         0.138275   \n",
       "std           0.679295              0.0         0.355355         0.411765   \n",
       "min           0.000000              0.0         0.000000         0.000000   \n",
       "25%           0.000000              0.0         0.000000         0.000000   \n",
       "50%           0.000000              0.0         0.010000         0.010000   \n",
       "75%           0.000000              0.0         0.080000         0.050000   \n",
       "max           4.000000              0.0         2.650000         2.570000   \n",
       "\n",
       "       measurements.52  measurements.53  ...  measurements.136  \\\n",
       "count     78889.000000     72701.000000  ...      65282.000000   \n",
       "mean          0.021767         0.025313  ...          0.019577   \n",
       "std           0.106304         0.142889  ...          0.278985   \n",
       "min           0.000000         0.000000  ...          0.000000   \n",
       "25%           0.000000         0.000000  ...          0.000000   \n",
       "50%           0.000000         0.000000  ...          0.000000   \n",
       "75%           0.000000         0.000000  ...          0.000000   \n",
       "max           2.000000         2.600000  ...          4.000000   \n",
       "\n",
       "       measurements.180  measurements.181  measurements.94  measurements.172  \\\n",
       "count      65320.000000      65267.000000     47853.000000       3131.000000   \n",
       "mean          33.841687          0.720601         0.019727        -12.764229   \n",
       "std           66.052084          0.168820         0.144949          3.481170   \n",
       "min            0.000000          0.100000         0.000000        -23.900000   \n",
       "25%            1.000000          0.680000         0.000000        -14.900000   \n",
       "50%            1.000000          0.820000         0.000000        -12.100000   \n",
       "75%            6.000000          0.820000         0.000000        -10.000000   \n",
       "max          401.000000          0.820000         2.000000         -5.400000   \n",
       "\n",
       "       measurements.19  measurements.150  measurements.147  measurements.148  \\\n",
       "count      4173.000000       1276.000000       1277.000000       1277.000000   \n",
       "mean        992.482818         31.640282         64.128426         14.926390   \n",
       "std         114.373663         47.647002        121.535361         17.626771   \n",
       "min         220.700000          0.000000          0.000000          0.000000   \n",
       "25%        1002.700000          5.000000          4.000000          2.000000   \n",
       "50%        1010.400000         16.000000         32.000000          6.000000   \n",
       "75%        1018.600000         42.000000         44.000000         38.000000   \n",
       "max        1025.100000        181.000000        466.000000         69.000000   \n",
       "\n",
       "       measurements.149  \n",
       "count       1276.000000  \n",
       "mean          15.791536  \n",
       "std           19.418458  \n",
       "min            0.000000  \n",
       "25%            0.000000  \n",
       "50%           10.000000  \n",
       "75%           26.000000  \n",
       "max           60.000000  \n",
       "\n",
       "[8 rows x 74 columns]"
      ]
     },
     "execution_count": 318,
     "metadata": {},
     "output_type": "execute_result"
    }
   ],
   "source": [
    "df.describe()"
   ]
  },
  {
   "cell_type": "code",
   "execution_count": null,
   "id": "lightweight-dealing",
   "metadata": {},
   "outputs": [],
   "source": []
  },
  {
   "cell_type": "code",
   "execution_count": 431,
   "id": "exclusive-front",
   "metadata": {},
   "outputs": [],
   "source": [
    "columns = ['roadStationId', 'measuredTime','measurements.1', 'measurements.16', 'measurements.17', 'measurements.18', 'measurements.19', 'measurements.21']\n",
    "df2 = df[columns]"
   ]
  },
  {
   "cell_type": "code",
   "execution_count": 432,
   "id": "prostate-seminar",
   "metadata": {},
   "outputs": [
    {
     "name": "stdout",
     "output_type": "stream",
     "text": [
      "<class 'pandas.core.frame.DataFrame'>\n",
      "RangeIndex: 153376 entries, 0 to 153375\n",
      "Data columns (total 8 columns):\n",
      " #   Column           Non-Null Count   Dtype         \n",
      "---  ------           --------------   -----         \n",
      " 0   roadStationId    153376 non-null  int64         \n",
      " 1   measuredTime     153376 non-null  datetime64[ns]\n",
      " 2   measurements.1   151290 non-null  float64       \n",
      " 3   measurements.16  134249 non-null  float64       \n",
      " 4   measurements.17  126984 non-null  float64       \n",
      " 5   measurements.18  134225 non-null  float64       \n",
      " 6   measurements.19  4173 non-null    float64       \n",
      " 7   measurements.21  151067 non-null  float64       \n",
      "dtypes: datetime64[ns](1), float64(6), int64(1)\n",
      "memory usage: 9.4 MB\n"
     ]
    }
   ],
   "source": [
    "df2.info()"
   ]
  },
  {
   "cell_type": "code",
   "execution_count": 433,
   "id": "sophisticated-emission",
   "metadata": {},
   "outputs": [],
   "source": [
    "df2.index = df2['measuredTime']\n",
    "del df2['measuredTime']"
   ]
  },
  {
   "cell_type": "code",
   "execution_count": null,
   "id": "configured-orleans",
   "metadata": {},
   "outputs": [],
   "source": []
  },
  {
   "cell_type": "code",
   "execution_count": null,
   "id": "professional-psychology",
   "metadata": {},
   "outputs": [],
   "source": [
    "\n"
   ]
  },
  {
   "cell_type": "code",
   "execution_count": 434,
   "id": "opposite-angel",
   "metadata": {},
   "outputs": [
    {
     "data": {
      "text/plain": [
       "871"
      ]
     },
     "execution_count": 434,
     "metadata": {},
     "output_type": "execute_result"
    }
   ],
   "source": [
    "interpo = df2.groupby('roadStationId').resample('60s').mean().interpolate()\n",
    "del interpo['roadStationId']\n",
    "len(interpo.index.unique(level='roadStationId'))"
   ]
  },
  {
   "cell_type": "code",
   "execution_count": 435,
   "id": "latter-preservation",
   "metadata": {},
   "outputs": [],
   "source": [
    "interpo = interpo.dropna()"
   ]
  },
  {
   "cell_type": "code",
   "execution_count": 437,
   "id": "capable-calculation",
   "metadata": {},
   "outputs": [
    {
     "data": {
      "text/html": [
       "<div>\n",
       "<style scoped>\n",
       "    .dataframe tbody tr th:only-of-type {\n",
       "        vertical-align: middle;\n",
       "    }\n",
       "\n",
       "    .dataframe tbody tr th {\n",
       "        vertical-align: top;\n",
       "    }\n",
       "\n",
       "    .dataframe thead th {\n",
       "        text-align: right;\n",
       "    }\n",
       "</style>\n",
       "<table border=\"1\" class=\"dataframe\">\n",
       "  <thead>\n",
       "    <tr style=\"text-align: right;\">\n",
       "      <th></th>\n",
       "      <th></th>\n",
       "      <th>measurements.1</th>\n",
       "      <th>measurements.16</th>\n",
       "      <th>measurements.17</th>\n",
       "      <th>measurements.18</th>\n",
       "      <th>measurements.19</th>\n",
       "      <th>measurements.21</th>\n",
       "    </tr>\n",
       "    <tr>\n",
       "      <th>roadStationId</th>\n",
       "      <th>measuredTime</th>\n",
       "      <th></th>\n",
       "      <th></th>\n",
       "      <th></th>\n",
       "      <th></th>\n",
       "      <th></th>\n",
       "      <th></th>\n",
       "    </tr>\n",
       "  </thead>\n",
       "  <tbody>\n",
       "    <tr>\n",
       "      <th rowspan=\"5\" valign=\"top\">2052</th>\n",
       "      <th>2021-02-08 08:00:00</th>\n",
       "      <td>-8.40</td>\n",
       "      <td>1.200000</td>\n",
       "      <td>2.400000</td>\n",
       "      <td>38.000000</td>\n",
       "      <td>1024.9</td>\n",
       "      <td>100.0</td>\n",
       "    </tr>\n",
       "    <tr>\n",
       "      <th>2021-02-08 08:01:00</th>\n",
       "      <td>-8.31</td>\n",
       "      <td>1.200000</td>\n",
       "      <td>2.440000</td>\n",
       "      <td>39.100000</td>\n",
       "      <td>1024.9</td>\n",
       "      <td>100.0</td>\n",
       "    </tr>\n",
       "    <tr>\n",
       "      <th>2021-02-08 08:02:00</th>\n",
       "      <td>-8.22</td>\n",
       "      <td>1.200000</td>\n",
       "      <td>2.480000</td>\n",
       "      <td>40.200000</td>\n",
       "      <td>1024.9</td>\n",
       "      <td>100.0</td>\n",
       "    </tr>\n",
       "    <tr>\n",
       "      <th>2021-02-08 08:03:00</th>\n",
       "      <td>-8.13</td>\n",
       "      <td>1.200000</td>\n",
       "      <td>2.520000</td>\n",
       "      <td>41.300000</td>\n",
       "      <td>1024.9</td>\n",
       "      <td>100.0</td>\n",
       "    </tr>\n",
       "    <tr>\n",
       "      <th>2021-02-08 08:04:00</th>\n",
       "      <td>-8.04</td>\n",
       "      <td>1.200000</td>\n",
       "      <td>2.560000</td>\n",
       "      <td>42.400000</td>\n",
       "      <td>1024.9</td>\n",
       "      <td>100.0</td>\n",
       "    </tr>\n",
       "    <tr>\n",
       "      <th>...</th>\n",
       "      <th>...</th>\n",
       "      <td>...</td>\n",
       "      <td>...</td>\n",
       "      <td>...</td>\n",
       "      <td>...</td>\n",
       "      <td>...</td>\n",
       "      <td>...</td>\n",
       "    </tr>\n",
       "    <tr>\n",
       "      <th rowspan=\"4\" valign=\"top\">19944</th>\n",
       "      <th>2021-02-09 10:19:00</th>\n",
       "      <td>-8.06</td>\n",
       "      <td>0.500748</td>\n",
       "      <td>1.301081</td>\n",
       "      <td>249.809563</td>\n",
       "      <td>1019.6</td>\n",
       "      <td>99.0</td>\n",
       "    </tr>\n",
       "    <tr>\n",
       "      <th>2021-02-09 10:20:00</th>\n",
       "      <td>-8.04</td>\n",
       "      <td>0.500561</td>\n",
       "      <td>1.300811</td>\n",
       "      <td>249.857173</td>\n",
       "      <td>1019.6</td>\n",
       "      <td>99.0</td>\n",
       "    </tr>\n",
       "    <tr>\n",
       "      <th>2021-02-09 10:21:00</th>\n",
       "      <td>-8.02</td>\n",
       "      <td>0.500374</td>\n",
       "      <td>1.300541</td>\n",
       "      <td>249.904782</td>\n",
       "      <td>1019.6</td>\n",
       "      <td>99.0</td>\n",
       "    </tr>\n",
       "    <tr>\n",
       "      <th>2021-02-09 10:22:00</th>\n",
       "      <td>-8.00</td>\n",
       "      <td>0.500187</td>\n",
       "      <td>1.300270</td>\n",
       "      <td>249.952391</td>\n",
       "      <td>1019.6</td>\n",
       "      <td>99.0</td>\n",
       "    </tr>\n",
       "    <tr>\n",
       "      <th>19946</th>\n",
       "      <th>2021-02-09 03:41:00</th>\n",
       "      <td>-17.00</td>\n",
       "      <td>0.500000</td>\n",
       "      <td>1.300000</td>\n",
       "      <td>250.000000</td>\n",
       "      <td>1019.6</td>\n",
       "      <td>86.0</td>\n",
       "    </tr>\n",
       "  </tbody>\n",
       "</table>\n",
       "<p>1064902 rows × 6 columns</p>\n",
       "</div>"
      ],
      "text/plain": [
       "                                   measurements.1  measurements.16  \\\n",
       "roadStationId measuredTime                                           \n",
       "2052          2021-02-08 08:00:00           -8.40         1.200000   \n",
       "              2021-02-08 08:01:00           -8.31         1.200000   \n",
       "              2021-02-08 08:02:00           -8.22         1.200000   \n",
       "              2021-02-08 08:03:00           -8.13         1.200000   \n",
       "              2021-02-08 08:04:00           -8.04         1.200000   \n",
       "...                                           ...              ...   \n",
       "19944         2021-02-09 10:19:00           -8.06         0.500748   \n",
       "              2021-02-09 10:20:00           -8.04         0.500561   \n",
       "              2021-02-09 10:21:00           -8.02         0.500374   \n",
       "              2021-02-09 10:22:00           -8.00         0.500187   \n",
       "19946         2021-02-09 03:41:00          -17.00         0.500000   \n",
       "\n",
       "                                   measurements.17  measurements.18  \\\n",
       "roadStationId measuredTime                                            \n",
       "2052          2021-02-08 08:00:00         2.400000        38.000000   \n",
       "              2021-02-08 08:01:00         2.440000        39.100000   \n",
       "              2021-02-08 08:02:00         2.480000        40.200000   \n",
       "              2021-02-08 08:03:00         2.520000        41.300000   \n",
       "              2021-02-08 08:04:00         2.560000        42.400000   \n",
       "...                                            ...              ...   \n",
       "19944         2021-02-09 10:19:00         1.301081       249.809563   \n",
       "              2021-02-09 10:20:00         1.300811       249.857173   \n",
       "              2021-02-09 10:21:00         1.300541       249.904782   \n",
       "              2021-02-09 10:22:00         1.300270       249.952391   \n",
       "19946         2021-02-09 03:41:00         1.300000       250.000000   \n",
       "\n",
       "                                   measurements.19  measurements.21  \n",
       "roadStationId measuredTime                                           \n",
       "2052          2021-02-08 08:00:00           1024.9            100.0  \n",
       "              2021-02-08 08:01:00           1024.9            100.0  \n",
       "              2021-02-08 08:02:00           1024.9            100.0  \n",
       "              2021-02-08 08:03:00           1024.9            100.0  \n",
       "              2021-02-08 08:04:00           1024.9            100.0  \n",
       "...                                            ...              ...  \n",
       "19944         2021-02-09 10:19:00           1019.6             99.0  \n",
       "              2021-02-09 10:20:00           1019.6             99.0  \n",
       "              2021-02-09 10:21:00           1019.6             99.0  \n",
       "              2021-02-09 10:22:00           1019.6             99.0  \n",
       "19946         2021-02-09 03:41:00           1019.6             86.0  \n",
       "\n",
       "[1064902 rows x 6 columns]"
      ]
     },
     "execution_count": 437,
     "metadata": {},
     "output_type": "execute_result"
    }
   ],
   "source": [
    "interpo"
   ]
  },
  {
   "cell_type": "code",
   "execution_count": 382,
   "id": "median-independence",
   "metadata": {},
   "outputs": [],
   "source": [
    "interpo = interpo.iloc[interpo.index.get_level_values(0) == 2052]"
   ]
  },
  {
   "cell_type": "code",
   "execution_count": 383,
   "id": "pressed-reset",
   "metadata": {},
   "outputs": [
    {
     "data": {
      "text/html": [
       "<div>\n",
       "<style scoped>\n",
       "    .dataframe tbody tr th:only-of-type {\n",
       "        vertical-align: middle;\n",
       "    }\n",
       "\n",
       "    .dataframe tbody tr th {\n",
       "        vertical-align: top;\n",
       "    }\n",
       "\n",
       "    .dataframe thead th {\n",
       "        text-align: right;\n",
       "    }\n",
       "</style>\n",
       "<table border=\"1\" class=\"dataframe\">\n",
       "  <thead>\n",
       "    <tr style=\"text-align: right;\">\n",
       "      <th></th>\n",
       "      <th></th>\n",
       "      <th>measurements.1</th>\n",
       "      <th>measurements.16</th>\n",
       "      <th>measurements.17</th>\n",
       "      <th>measurements.18</th>\n",
       "      <th>measurements.19</th>\n",
       "      <th>measurements.21</th>\n",
       "    </tr>\n",
       "    <tr>\n",
       "      <th>roadStationId</th>\n",
       "      <th>measuredTime</th>\n",
       "      <th></th>\n",
       "      <th></th>\n",
       "      <th></th>\n",
       "      <th></th>\n",
       "      <th></th>\n",
       "      <th></th>\n",
       "    </tr>\n",
       "  </thead>\n",
       "  <tbody>\n",
       "    <tr>\n",
       "      <th rowspan=\"11\" valign=\"top\">2052</th>\n",
       "      <th>2021-02-08 08:00:00</th>\n",
       "      <td>-8.40</td>\n",
       "      <td>1.2</td>\n",
       "      <td>2.40</td>\n",
       "      <td>38.0</td>\n",
       "      <td>1024.90</td>\n",
       "      <td>100.00</td>\n",
       "    </tr>\n",
       "    <tr>\n",
       "      <th>2021-02-08 08:01:00</th>\n",
       "      <td>-8.31</td>\n",
       "      <td>1.2</td>\n",
       "      <td>2.44</td>\n",
       "      <td>39.1</td>\n",
       "      <td>1024.90</td>\n",
       "      <td>100.00</td>\n",
       "    </tr>\n",
       "    <tr>\n",
       "      <th>2021-02-08 08:02:00</th>\n",
       "      <td>-8.22</td>\n",
       "      <td>1.2</td>\n",
       "      <td>2.48</td>\n",
       "      <td>40.2</td>\n",
       "      <td>1024.90</td>\n",
       "      <td>100.00</td>\n",
       "    </tr>\n",
       "    <tr>\n",
       "      <th>2021-02-08 08:03:00</th>\n",
       "      <td>-8.13</td>\n",
       "      <td>1.2</td>\n",
       "      <td>2.52</td>\n",
       "      <td>41.3</td>\n",
       "      <td>1024.90</td>\n",
       "      <td>100.00</td>\n",
       "    </tr>\n",
       "    <tr>\n",
       "      <th>2021-02-08 08:04:00</th>\n",
       "      <td>-8.04</td>\n",
       "      <td>1.2</td>\n",
       "      <td>2.56</td>\n",
       "      <td>42.4</td>\n",
       "      <td>1024.90</td>\n",
       "      <td>100.00</td>\n",
       "    </tr>\n",
       "    <tr>\n",
       "      <th>...</th>\n",
       "      <td>...</td>\n",
       "      <td>...</td>\n",
       "      <td>...</td>\n",
       "      <td>...</td>\n",
       "      <td>...</td>\n",
       "      <td>...</td>\n",
       "    </tr>\n",
       "    <tr>\n",
       "      <th>2021-02-09 10:46:00</th>\n",
       "      <td>-4.88</td>\n",
       "      <td>1.6</td>\n",
       "      <td>2.88</td>\n",
       "      <td>35.6</td>\n",
       "      <td>1021.24</td>\n",
       "      <td>85.00</td>\n",
       "    </tr>\n",
       "    <tr>\n",
       "      <th>2021-02-09 10:47:00</th>\n",
       "      <td>-4.86</td>\n",
       "      <td>1.6</td>\n",
       "      <td>2.86</td>\n",
       "      <td>35.2</td>\n",
       "      <td>1021.23</td>\n",
       "      <td>84.75</td>\n",
       "    </tr>\n",
       "    <tr>\n",
       "      <th>2021-02-09 10:48:00</th>\n",
       "      <td>-4.84</td>\n",
       "      <td>1.6</td>\n",
       "      <td>2.84</td>\n",
       "      <td>34.8</td>\n",
       "      <td>1021.22</td>\n",
       "      <td>84.50</td>\n",
       "    </tr>\n",
       "    <tr>\n",
       "      <th>2021-02-09 10:49:00</th>\n",
       "      <td>-4.82</td>\n",
       "      <td>1.6</td>\n",
       "      <td>2.82</td>\n",
       "      <td>34.4</td>\n",
       "      <td>1021.21</td>\n",
       "      <td>84.25</td>\n",
       "    </tr>\n",
       "    <tr>\n",
       "      <th>2021-02-09 10:50:00</th>\n",
       "      <td>-4.80</td>\n",
       "      <td>1.6</td>\n",
       "      <td>2.80</td>\n",
       "      <td>34.0</td>\n",
       "      <td>1021.20</td>\n",
       "      <td>84.00</td>\n",
       "    </tr>\n",
       "  </tbody>\n",
       "</table>\n",
       "<p>1611 rows × 6 columns</p>\n",
       "</div>"
      ],
      "text/plain": [
       "                                   measurements.1  measurements.16  \\\n",
       "roadStationId measuredTime                                           \n",
       "2052          2021-02-08 08:00:00           -8.40              1.2   \n",
       "              2021-02-08 08:01:00           -8.31              1.2   \n",
       "              2021-02-08 08:02:00           -8.22              1.2   \n",
       "              2021-02-08 08:03:00           -8.13              1.2   \n",
       "              2021-02-08 08:04:00           -8.04              1.2   \n",
       "...                                           ...              ...   \n",
       "              2021-02-09 10:46:00           -4.88              1.6   \n",
       "              2021-02-09 10:47:00           -4.86              1.6   \n",
       "              2021-02-09 10:48:00           -4.84              1.6   \n",
       "              2021-02-09 10:49:00           -4.82              1.6   \n",
       "              2021-02-09 10:50:00           -4.80              1.6   \n",
       "\n",
       "                                   measurements.17  measurements.18  \\\n",
       "roadStationId measuredTime                                            \n",
       "2052          2021-02-08 08:00:00             2.40             38.0   \n",
       "              2021-02-08 08:01:00             2.44             39.1   \n",
       "              2021-02-08 08:02:00             2.48             40.2   \n",
       "              2021-02-08 08:03:00             2.52             41.3   \n",
       "              2021-02-08 08:04:00             2.56             42.4   \n",
       "...                                            ...              ...   \n",
       "              2021-02-09 10:46:00             2.88             35.6   \n",
       "              2021-02-09 10:47:00             2.86             35.2   \n",
       "              2021-02-09 10:48:00             2.84             34.8   \n",
       "              2021-02-09 10:49:00             2.82             34.4   \n",
       "              2021-02-09 10:50:00             2.80             34.0   \n",
       "\n",
       "                                   measurements.19  measurements.21  \n",
       "roadStationId measuredTime                                           \n",
       "2052          2021-02-08 08:00:00          1024.90           100.00  \n",
       "              2021-02-08 08:01:00          1024.90           100.00  \n",
       "              2021-02-08 08:02:00          1024.90           100.00  \n",
       "              2021-02-08 08:03:00          1024.90           100.00  \n",
       "              2021-02-08 08:04:00          1024.90           100.00  \n",
       "...                                            ...              ...  \n",
       "              2021-02-09 10:46:00          1021.24            85.00  \n",
       "              2021-02-09 10:47:00          1021.23            84.75  \n",
       "              2021-02-09 10:48:00          1021.22            84.50  \n",
       "              2021-02-09 10:49:00          1021.21            84.25  \n",
       "              2021-02-09 10:50:00          1021.20            84.00  \n",
       "\n",
       "[1611 rows x 6 columns]"
      ]
     },
     "execution_count": 383,
     "metadata": {},
     "output_type": "execute_result"
    }
   ],
   "source": [
    "interpo"
   ]
  },
  {
   "cell_type": "code",
   "execution_count": 384,
   "id": "homeless-respect",
   "metadata": {},
   "outputs": [
    {
     "data": {
      "text/plain": [
       "Text(0, 0.5, 'Wind Velocity [m/s]')"
      ]
     },
     "execution_count": 384,
     "metadata": {},
     "output_type": "execute_result"
    },
    {
     "data": {
      "image/png": "[encoded data removed]",
      "text/plain": [
       "<Figure size 432x288 with 2 Axes>"
      ]
     },
     "metadata": {
      "needs_background": "light"
     },
     "output_type": "display_data"
    }
   ],
   "source": [
    "plt.hist2d(interpo['measurements.18'], interpo['measurements.16'], bins=(50, 50), vmax=400)\n",
    "plt.colorbar()\n",
    "plt.xlabel('Wind Direction [deg]')\n",
    "plt.ylabel('Wind Velocity [m/s]')"
   ]
  },
  {
   "cell_type": "code",
   "execution_count": 385,
   "id": "cleared-australia",
   "metadata": {},
   "outputs": [
    {
     "name": "stderr",
     "output_type": "stream",
     "text": [
      "/Users/samisaily/.pyenv/versions/tms-demo/lib/python3.7/site-packages/ipykernel/__main__.py:9: SettingWithCopyWarning: \n",
      "A value is trying to be set on a copy of a slice from a DataFrame.\n",
      "Try using .loc[row_indexer,col_indexer] = value instead\n",
      "\n",
      "See the caveats in the documentation: https://pandas.pydata.org/pandas-docs/stable/user_guide/indexing.html#returning-a-view-versus-a-copy\n",
      "/Users/samisaily/.pyenv/versions/tms-demo/lib/python3.7/site-packages/ipykernel/__main__.py:10: SettingWithCopyWarning: \n",
      "A value is trying to be set on a copy of a slice from a DataFrame.\n",
      "Try using .loc[row_indexer,col_indexer] = value instead\n",
      "\n",
      "See the caveats in the documentation: https://pandas.pydata.org/pandas-docs/stable/user_guide/indexing.html#returning-a-view-versus-a-copy\n",
      "/Users/samisaily/.pyenv/versions/tms-demo/lib/python3.7/site-packages/ipykernel/__main__.py:13: SettingWithCopyWarning: \n",
      "A value is trying to be set on a copy of a slice from a DataFrame.\n",
      "Try using .loc[row_indexer,col_indexer] = value instead\n",
      "\n",
      "See the caveats in the documentation: https://pandas.pydata.org/pandas-docs/stable/user_guide/indexing.html#returning-a-view-versus-a-copy\n",
      "/Users/samisaily/.pyenv/versions/tms-demo/lib/python3.7/site-packages/ipykernel/__main__.py:14: SettingWithCopyWarning: \n",
      "A value is trying to be set on a copy of a slice from a DataFrame.\n",
      "Try using .loc[row_indexer,col_indexer] = value instead\n",
      "\n",
      "See the caveats in the documentation: https://pandas.pydata.org/pandas-docs/stable/user_guide/indexing.html#returning-a-view-versus-a-copy\n"
     ]
    }
   ],
   "source": [
    "# Convert to wind vector\n",
    "wv = interpo.pop('measurements.16')\n",
    "max_wv = interpo.pop('measurements.17')\n",
    "\n",
    "# Convert to radians.\n",
    "wd_rad = interpo.pop('measurements.18')*np.pi / 180\n",
    "\n",
    "# Calculate the wind x and y components.\n",
    "interpo['Wx'] = wv*np.cos(wd_rad)\n",
    "interpo['Wy'] = wv*np.sin(wd_rad)\n",
    "\n",
    "# Calculate the max wind x and y components.\n",
    "interpo['max Wx'] = max_wv*np.cos(wd_rad)\n",
    "interpo['max Wy'] = max_wv*np.sin(wd_rad)"
   ]
  },
  {
   "cell_type": "code",
   "execution_count": 386,
   "id": "general-china",
   "metadata": {},
   "outputs": [
    {
     "data": {
      "text/plain": [
       "(-1.1976973721594082,\n",
       " 2.6529202321761334,\n",
       " -1.1999885768648813,\n",
       " 2.614025194192165)"
      ]
     },
     "execution_count": 386,
     "metadata": {},
     "output_type": "execute_result"
    },
    {
     "data": {
      "image/png": "[encoded data removed]",
      "text/plain": [
       "<Figure size 432x288 with 2 Axes>"
      ]
     },
     "metadata": {
      "needs_background": "light"
     },
     "output_type": "display_data"
    }
   ],
   "source": [
    "plt.hist2d(interpo['Wx'], interpo['Wy'], bins=(50, 50), vmax=400)\n",
    "plt.colorbar()\n",
    "plt.xlabel('Wind X [m/s]')\n",
    "plt.ylabel('Wind Y [m/s]')\n",
    "ax = plt.gca()\n",
    "ax.axis('tight')"
   ]
  },
  {
   "cell_type": "code",
   "execution_count": 387,
   "id": "opened-sewing",
   "metadata": {},
   "outputs": [
    {
     "data": {
      "text/html": [
       "<div>\n",
       "<style scoped>\n",
       "    .dataframe tbody tr th:only-of-type {\n",
       "        vertical-align: middle;\n",
       "    }\n",
       "\n",
       "    .dataframe tbody tr th {\n",
       "        vertical-align: top;\n",
       "    }\n",
       "\n",
       "    .dataframe thead th {\n",
       "        text-align: right;\n",
       "    }\n",
       "</style>\n",
       "<table border=\"1\" class=\"dataframe\">\n",
       "  <thead>\n",
       "    <tr style=\"text-align: right;\">\n",
       "      <th></th>\n",
       "      <th></th>\n",
       "      <th>measurements.1</th>\n",
       "      <th>measurements.19</th>\n",
       "      <th>measurements.21</th>\n",
       "      <th>Wx</th>\n",
       "      <th>Wy</th>\n",
       "      <th>max Wx</th>\n",
       "      <th>max Wy</th>\n",
       "    </tr>\n",
       "    <tr>\n",
       "      <th>roadStationId</th>\n",
       "      <th>measuredTime</th>\n",
       "      <th></th>\n",
       "      <th></th>\n",
       "      <th></th>\n",
       "      <th></th>\n",
       "      <th></th>\n",
       "      <th></th>\n",
       "      <th></th>\n",
       "    </tr>\n",
       "  </thead>\n",
       "  <tbody>\n",
       "    <tr>\n",
       "      <th rowspan=\"11\" valign=\"top\">2052</th>\n",
       "      <th>2021-02-08 08:00:00</th>\n",
       "      <td>-8.40</td>\n",
       "      <td>1024.90</td>\n",
       "      <td>100.00</td>\n",
       "      <td>0.945613</td>\n",
       "      <td>0.738794</td>\n",
       "      <td>1.891226</td>\n",
       "      <td>1.477588</td>\n",
       "    </tr>\n",
       "    <tr>\n",
       "      <th>2021-02-08 08:01:00</th>\n",
       "      <td>-8.31</td>\n",
       "      <td>1024.90</td>\n",
       "      <td>100.00</td>\n",
       "      <td>0.931256</td>\n",
       "      <td>0.756811</td>\n",
       "      <td>1.893553</td>\n",
       "      <td>1.538849</td>\n",
       "    </tr>\n",
       "    <tr>\n",
       "      <th>2021-02-08 08:02:00</th>\n",
       "      <td>-8.22</td>\n",
       "      <td>1024.90</td>\n",
       "      <td>100.00</td>\n",
       "      <td>0.916555</td>\n",
       "      <td>0.774549</td>\n",
       "      <td>1.894214</td>\n",
       "      <td>1.600735</td>\n",
       "    </tr>\n",
       "    <tr>\n",
       "      <th>2021-02-08 08:03:00</th>\n",
       "      <td>-8.13</td>\n",
       "      <td>1024.90</td>\n",
       "      <td>100.00</td>\n",
       "      <td>0.901517</td>\n",
       "      <td>0.792002</td>\n",
       "      <td>1.893186</td>\n",
       "      <td>1.663204</td>\n",
       "    </tr>\n",
       "    <tr>\n",
       "      <th>2021-02-08 08:04:00</th>\n",
       "      <td>-8.04</td>\n",
       "      <td>1024.90</td>\n",
       "      <td>100.00</td>\n",
       "      <td>0.886146</td>\n",
       "      <td>0.809163</td>\n",
       "      <td>1.890446</td>\n",
       "      <td>1.726214</td>\n",
       "    </tr>\n",
       "    <tr>\n",
       "      <th>...</th>\n",
       "      <td>...</td>\n",
       "      <td>...</td>\n",
       "      <td>...</td>\n",
       "      <td>...</td>\n",
       "      <td>...</td>\n",
       "      <td>...</td>\n",
       "      <td>...</td>\n",
       "    </tr>\n",
       "    <tr>\n",
       "      <th>2021-02-09 10:46:00</th>\n",
       "      <td>-4.88</td>\n",
       "      <td>1021.24</td>\n",
       "      <td>85.00</td>\n",
       "      <td>1.300961</td>\n",
       "      <td>0.931397</td>\n",
       "      <td>2.341730</td>\n",
       "      <td>1.676514</td>\n",
       "    </tr>\n",
       "    <tr>\n",
       "      <th>2021-02-09 10:47:00</th>\n",
       "      <td>-4.86</td>\n",
       "      <td>1021.23</td>\n",
       "      <td>84.75</td>\n",
       "      <td>1.307432</td>\n",
       "      <td>0.922292</td>\n",
       "      <td>2.337034</td>\n",
       "      <td>1.648596</td>\n",
       "    </tr>\n",
       "    <tr>\n",
       "      <th>2021-02-09 10:48:00</th>\n",
       "      <td>-4.84</td>\n",
       "      <td>1021.22</td>\n",
       "      <td>84.50</td>\n",
       "      <td>1.313839</td>\n",
       "      <td>0.913142</td>\n",
       "      <td>2.332064</td>\n",
       "      <td>1.620827</td>\n",
       "    </tr>\n",
       "    <tr>\n",
       "      <th>2021-02-09 10:49:00</th>\n",
       "      <td>-4.82</td>\n",
       "      <td>1021.21</td>\n",
       "      <td>84.25</td>\n",
       "      <td>1.320182</td>\n",
       "      <td>0.903947</td>\n",
       "      <td>2.326820</td>\n",
       "      <td>1.593207</td>\n",
       "    </tr>\n",
       "    <tr>\n",
       "      <th>2021-02-09 10:50:00</th>\n",
       "      <td>-4.80</td>\n",
       "      <td>1021.20</td>\n",
       "      <td>84.00</td>\n",
       "      <td>1.326460</td>\n",
       "      <td>0.894709</td>\n",
       "      <td>2.321305</td>\n",
       "      <td>1.565740</td>\n",
       "    </tr>\n",
       "  </tbody>\n",
       "</table>\n",
       "<p>1611 rows × 7 columns</p>\n",
       "</div>"
      ],
      "text/plain": [
       "                                   measurements.1  measurements.19  \\\n",
       "roadStationId measuredTime                                           \n",
       "2052          2021-02-08 08:00:00           -8.40          1024.90   \n",
       "              2021-02-08 08:01:00           -8.31          1024.90   \n",
       "              2021-02-08 08:02:00           -8.22          1024.90   \n",
       "              2021-02-08 08:03:00           -8.13          1024.90   \n",
       "              2021-02-08 08:04:00           -8.04          1024.90   \n",
       "...                                           ...              ...   \n",
       "              2021-02-09 10:46:00           -4.88          1021.24   \n",
       "              2021-02-09 10:47:00           -4.86          1021.23   \n",
       "              2021-02-09 10:48:00           -4.84          1021.22   \n",
       "              2021-02-09 10:49:00           -4.82          1021.21   \n",
       "              2021-02-09 10:50:00           -4.80          1021.20   \n",
       "\n",
       "                                   measurements.21        Wx        Wy  \\\n",
       "roadStationId measuredTime                                               \n",
       "2052          2021-02-08 08:00:00           100.00  0.945613  0.738794   \n",
       "              2021-02-08 08:01:00           100.00  0.931256  0.756811   \n",
       "              2021-02-08 08:02:00           100.00  0.916555  0.774549   \n",
       "              2021-02-08 08:03:00           100.00  0.901517  0.792002   \n",
       "              2021-02-08 08:04:00           100.00  0.886146  0.809163   \n",
       "...                                            ...       ...       ...   \n",
       "              2021-02-09 10:46:00            85.00  1.300961  0.931397   \n",
       "              2021-02-09 10:47:00            84.75  1.307432  0.922292   \n",
       "              2021-02-09 10:48:00            84.50  1.313839  0.913142   \n",
       "              2021-02-09 10:49:00            84.25  1.320182  0.903947   \n",
       "              2021-02-09 10:50:00            84.00  1.326460  0.894709   \n",
       "\n",
       "                                     max Wx    max Wy  \n",
       "roadStationId measuredTime                             \n",
       "2052          2021-02-08 08:00:00  1.891226  1.477588  \n",
       "              2021-02-08 08:01:00  1.893553  1.538849  \n",
       "              2021-02-08 08:02:00  1.894214  1.600735  \n",
       "              2021-02-08 08:03:00  1.893186  1.663204  \n",
       "              2021-02-08 08:04:00  1.890446  1.726214  \n",
       "...                                     ...       ...  \n",
       "              2021-02-09 10:46:00  2.341730  1.676514  \n",
       "              2021-02-09 10:47:00  2.337034  1.648596  \n",
       "              2021-02-09 10:48:00  2.332064  1.620827  \n",
       "              2021-02-09 10:49:00  2.326820  1.593207  \n",
       "              2021-02-09 10:50:00  2.321305  1.565740  \n",
       "\n",
       "[1611 rows x 7 columns]"
      ]
     },
     "execution_count": 387,
     "metadata": {},
     "output_type": "execute_result"
    }
   ],
   "source": [
    "interpo"
   ]
  },
  {
   "cell_type": "code",
   "execution_count": 388,
   "id": "caroline-nicaragua",
   "metadata": {},
   "outputs": [],
   "source": [
    "day = 24*60*60\n",
    "year = (365.2425)*day\n",
    "date_time = interpo.index.get_level_values('measuredTime')\n",
    "#interpo['Day sin'] = np.sin( * (2 * np.pi / day))"
   ]
  },
  {
   "cell_type": "code",
   "execution_count": 389,
   "id": "parallel-universal",
   "metadata": {},
   "outputs": [
    {
     "name": "stderr",
     "output_type": "stream",
     "text": [
      "/Users/samisaily/.pyenv/versions/tms-demo/lib/python3.7/site-packages/ipykernel/__main__.py:2: SettingWithCopyWarning: \n",
      "A value is trying to be set on a copy of a slice from a DataFrame.\n",
      "Try using .loc[row_indexer,col_indexer] = value instead\n",
      "\n",
      "See the caveats in the documentation: https://pandas.pydata.org/pandas-docs/stable/user_guide/indexing.html#returning-a-view-versus-a-copy\n",
      "  from ipykernel import kernelapp as app\n",
      "/Users/samisaily/.pyenv/versions/tms-demo/lib/python3.7/site-packages/ipykernel/__main__.py:3: SettingWithCopyWarning: \n",
      "A value is trying to be set on a copy of a slice from a DataFrame.\n",
      "Try using .loc[row_indexer,col_indexer] = value instead\n",
      "\n",
      "See the caveats in the documentation: https://pandas.pydata.org/pandas-docs/stable/user_guide/indexing.html#returning-a-view-versus-a-copy\n",
      "  app.launch_new_instance()\n",
      "/Users/samisaily/.pyenv/versions/tms-demo/lib/python3.7/site-packages/ipykernel/__main__.py:4: SettingWithCopyWarning: \n",
      "A value is trying to be set on a copy of a slice from a DataFrame.\n",
      "Try using .loc[row_indexer,col_indexer] = value instead\n",
      "\n",
      "See the caveats in the documentation: https://pandas.pydata.org/pandas-docs/stable/user_guide/indexing.html#returning-a-view-versus-a-copy\n",
      "/Users/samisaily/.pyenv/versions/tms-demo/lib/python3.7/site-packages/ipykernel/__main__.py:5: SettingWithCopyWarning: \n",
      "A value is trying to be set on a copy of a slice from a DataFrame.\n",
      "Try using .loc[row_indexer,col_indexer] = value instead\n",
      "\n",
      "See the caveats in the documentation: https://pandas.pydata.org/pandas-docs/stable/user_guide/indexing.html#returning-a-view-versus-a-copy\n"
     ]
    }
   ],
   "source": [
    "timestamp_s = date_time.map(datetime.datetime.timestamp)\n",
    "interpo['Day sin'] = np.sin(timestamp_s * (2 * np.pi / day))\n",
    "interpo['Day cos'] = np.cos(timestamp_s * (2 * np.pi / day))\n",
    "interpo['Year sin'] = np.sin(timestamp_s * (2 * np.pi / year))\n",
    "interpo['Year cos'] = np.cos(timestamp_s * (2 * np.pi / year))"
   ]
  },
  {
   "cell_type": "code",
   "execution_count": 390,
   "id": "civilian-apartment",
   "metadata": {},
   "outputs": [
    {
     "data": {
      "text/plain": [
       "Text(0.5, 1.0, 'Time of day signal')"
      ]
     },
     "execution_count": 390,
     "metadata": {},
     "output_type": "execute_result"
    },
    {
     "data": {
      "image/png": "[encoded data removed]",
      "text/plain": [
       "<Figure size 432x288 with 1 Axes>"
      ]
     },
     "metadata": {
      "needs_background": "light"
     },
     "output_type": "display_data"
    }
   ],
   "source": [
    "plt.plot(np.array(interpo['Day sin'])[:25])\n",
    "plt.plot(np.array(interpo['Day cos'])[:25])\n",
    "plt.xlabel('Time [h]')\n",
    "plt.title('Time of day signal')"
   ]
  },
  {
   "cell_type": "code",
   "execution_count": 391,
   "id": "marine-aircraft",
   "metadata": {},
   "outputs": [],
   "source": [
    "# Split dataset\n",
    "column_indices = {name: i for i, name in enumerate(interpo.columns)}\n",
    "\n",
    "n = len(interpo)\n",
    "train_df = interpo[0:int(n*0.7)]\n",
    "val_df = interpo[int(n*0.7):int(n*0.9)]\n",
    "test_df = interpo[int(n*0.9):]\n",
    "\n",
    "num_features = interpo.shape[1]"
   ]
  },
  {
   "cell_type": "code",
   "execution_count": 392,
   "id": "million-celtic",
   "metadata": {},
   "outputs": [],
   "source": [
    "train_mean = train_df.mean()\n",
    "train_std = train_df.std()\n",
    "\n",
    "train_df = (train_df - train_mean) / train_std\n",
    "val_df = (val_df - train_mean) / train_std\n",
    "test_df = (test_df - train_mean) / train_std"
   ]
  },
  {
   "cell_type": "code",
   "execution_count": 393,
   "id": "happy-shaft",
   "metadata": {},
   "outputs": [],
   "source": [
    "df_std = (interpo - train_mean) / train_std\n",
    "df_std = df_std.melt(var_name='Column', value_name='Normalized')"
   ]
  },
  {
   "cell_type": "code",
   "execution_count": 394,
   "id": "complimentary-above",
   "metadata": {},
   "outputs": [
    {
     "data": {
      "image/png": "[encoded data removed]",
      "text/plain": [
       "<Figure size 864x432 with 1 Axes>"
      ]
     },
     "metadata": {
      "needs_background": "light"
     },
     "output_type": "display_data"
    }
   ],
   "source": [
    "plt.figure(figsize=(12, 6))\n",
    "ax = sns.violinplot(x='Column', y='Normalized', data=df_std)\n",
    "_ = ax.set_xticklabels(interpo.keys(), rotation=90)"
   ]
  },
  {
   "cell_type": "code",
   "execution_count": 395,
   "id": "flying-restriction",
   "metadata": {},
   "outputs": [],
   "source": [
    "class WindowGenerator():\n",
    "  def __init__(self, input_width, label_width, shift,\n",
    "               train_df=train_df, val_df=val_df, test_df=test_df,\n",
    "               label_columns=None):\n",
    "    # Store the raw data.\n",
    "    self.train_df = train_df\n",
    "    self.val_df = val_df\n",
    "    self.test_df = test_df\n",
    "\n",
    "    # Work out the label column indices.\n",
    "    self.label_columns = label_columns\n",
    "    if label_columns is not None:\n",
    "      self.label_columns_indices = {name: i for i, name in\n",
    "                                    enumerate(label_columns)}\n",
    "    self.column_indices = {name: i for i, name in\n",
    "                           enumerate(train_df.columns)}\n",
    "\n",
    "    # Work out the window parameters.\n",
    "    self.input_width = input_width\n",
    "    self.label_width = label_width\n",
    "    self.shift = shift\n",
    "\n",
    "    self.total_window_size = input_width + shift\n",
    "\n",
    "    self.input_slice = slice(0, input_width)\n",
    "    self.input_indices = np.arange(self.total_window_size)[self.input_slice]\n",
    "\n",
    "    self.label_start = self.total_window_size - self.label_width\n",
    "    self.labels_slice = slice(self.label_start, None)\n",
    "    self.label_indices = np.arange(self.total_window_size)[self.labels_slice]\n",
    "\n",
    "  def __repr__(self):\n",
    "    return '\\n'.join([\n",
    "        f'Total window size: {self.total_window_size}',\n",
    "        f'Input indices: {self.input_indices}',\n",
    "        f'Label indices: {self.label_indices}',\n",
    "        f'Label column name(s): {self.label_columns}'])"
   ]
  },
  {
   "cell_type": "code",
   "execution_count": 396,
   "id": "systematic-fundamental",
   "metadata": {},
   "outputs": [
    {
     "data": {
      "text/plain": [
       "Total window size: 48\n",
       "Input indices: [ 0  1  2  3  4  5  6  7  8  9 10 11 12 13 14 15 16 17 18 19 20 21 22 23]\n",
       "Label indices: [47]\n",
       "Label column name(s): ['measurements.1']"
      ]
     },
     "execution_count": 396,
     "metadata": {},
     "output_type": "execute_result"
    }
   ],
   "source": [
    "w1 = WindowGenerator(input_width=24, label_width=1, shift=24,\n",
    "                     label_columns=['measurements.1'])\n",
    "w1"
   ]
  },
  {
   "cell_type": "code",
   "execution_count": 397,
   "id": "tight-enough",
   "metadata": {},
   "outputs": [
    {
     "data": {
      "text/plain": [
       "Total window size: 7\n",
       "Input indices: [0 1 2 3 4 5]\n",
       "Label indices: [6]\n",
       "Label column name(s): ['measurements.1']"
      ]
     },
     "execution_count": 397,
     "metadata": {},
     "output_type": "execute_result"
    }
   ],
   "source": [
    "w2 = WindowGenerator(input_width=6, label_width=1, shift=1,\n",
    "                     label_columns=['measurements.1'])\n",
    "w2"
   ]
  },
  {
   "cell_type": "code",
   "execution_count": 398,
   "id": "institutional-eugene",
   "metadata": {},
   "outputs": [],
   "source": [
    "def split_window(self, features):\n",
    "  inputs = features[:, self.input_slice, :]\n",
    "  labels = features[:, self.labels_slice, :]\n",
    "  if self.label_columns is not None:\n",
    "    labels = tf.stack(\n",
    "        [labels[:, :, self.column_indices[name]] for name in self.label_columns],\n",
    "        axis=-1)\n",
    "\n",
    "  # Slicing doesn't preserve static shape information, so set the shapes\n",
    "  # manually. This way the `tf.data.Datasets` are easier to inspect.\n",
    "  inputs.set_shape([None, self.input_width, None])\n",
    "  labels.set_shape([None, self.label_width, None])\n",
    "\n",
    "  return inputs, labels\n",
    "\n",
    "WindowGenerator.split_window = split_window"
   ]
  },
  {
   "cell_type": "code",
   "execution_count": 399,
   "id": "suitable-ferry",
   "metadata": {},
   "outputs": [
    {
     "name": "stdout",
     "output_type": "stream",
     "text": [
      "All shapes are: (batch, time, features)\n",
      "Window shape: (3, 7, 11)\n",
      "Inputs shape: (3, 6, 11)\n",
      "labels shape: (3, 1, 1)\n"
     ]
    }
   ],
   "source": [
    "# Stack three slices, the length of the total window:\n",
    "example_window = tf.stack([np.array(train_df[:w2.total_window_size]),\n",
    "                           np.array(train_df[100:100+w2.total_window_size]),\n",
    "                           np.array(train_df[200:200+w2.total_window_size])])\n",
    "\n",
    "\n",
    "example_inputs, example_labels = w2.split_window(example_window)\n",
    "\n",
    "print('All shapes are: (batch, time, features)')\n",
    "print(f'Window shape: {example_window.shape}')\n",
    "print(f'Inputs shape: {example_inputs.shape}')\n",
    "print(f'labels shape: {example_labels.shape}')"
   ]
  },
  {
   "cell_type": "code",
   "execution_count": 400,
   "id": "executive-contest",
   "metadata": {},
   "outputs": [],
   "source": [
    "w2.example = example_inputs, example_labels"
   ]
  },
  {
   "cell_type": "code",
   "execution_count": 401,
   "id": "challenging-rochester",
   "metadata": {},
   "outputs": [],
   "source": [
    "def plot(self, model=None, plot_col='measurements.1', max_subplots=3):\n",
    "  inputs, labels = self.example\n",
    "  plt.figure(figsize=(12, 8))\n",
    "  plot_col_index = self.column_indices[plot_col]\n",
    "  max_n = min(max_subplots, len(inputs))\n",
    "  for n in range(max_n):\n",
    "    plt.subplot(3, 1, n+1)\n",
    "    plt.ylabel(f'{plot_col} [normed]')\n",
    "    plt.plot(self.input_indices, inputs[n, :, plot_col_index],\n",
    "             label='Inputs', marker='.', zorder=-10)\n",
    "\n",
    "    if self.label_columns:\n",
    "      label_col_index = self.label_columns_indices.get(plot_col, None)\n",
    "    else:\n",
    "      label_col_index = plot_col_index\n",
    "\n",
    "    if label_col_index is None:\n",
    "      continue\n",
    "\n",
    "    plt.scatter(self.label_indices, labels[n, :, label_col_index],\n",
    "                edgecolors='k', label='Labels', c='#2ca02c', s=64)\n",
    "    if model is not None:\n",
    "      predictions = model(inputs)\n",
    "      plt.scatter(self.label_indices, predictions[n, :, label_col_index],\n",
    "                  marker='X', edgecolors='k', label='Predictions',\n",
    "                  c='#ff7f0e', s=64)\n",
    "\n",
    "    if n == 0:\n",
    "      plt.legend()\n",
    "\n",
    "  plt.xlabel('Time [h]')\n",
    "\n",
    "WindowGenerator.plot = plot"
   ]
  },
  {
   "cell_type": "code",
   "execution_count": 402,
   "id": "elder-hampton",
   "metadata": {},
   "outputs": [
    {
     "data": {
      "image/png": "[encoded data removed]",
      "text/plain": [
       "<Figure size 864x576 with 3 Axes>"
      ]
     },
     "metadata": {
      "needs_background": "light"
     },
     "output_type": "display_data"
    }
   ],
   "source": [
    "w2.plot()"
   ]
  },
  {
   "cell_type": "code",
   "execution_count": 403,
   "id": "personalized-italian",
   "metadata": {},
   "outputs": [],
   "source": [
    "def make_dataset(self, data):\n",
    "  data = np.array(data, dtype=np.float32)\n",
    "  ds = tf.keras.preprocessing.timeseries_dataset_from_array(\n",
    "      data=data,\n",
    "      targets=None,\n",
    "      sequence_length=self.total_window_size,\n",
    "      sequence_stride=1,\n",
    "      shuffle=True,\n",
    "      batch_size=32,)\n",
    "\n",
    "  ds = ds.map(self.split_window)\n",
    "\n",
    "  return ds\n",
    "\n",
    "WindowGenerator.make_dataset = make_dataset"
   ]
  },
  {
   "cell_type": "code",
   "execution_count": 404,
   "id": "fifteen-brick",
   "metadata": {},
   "outputs": [],
   "source": [
    "@property\n",
    "def train(self):\n",
    "  return self.make_dataset(self.train_df)\n",
    "\n",
    "@property\n",
    "def val(self):\n",
    "  return self.make_dataset(self.val_df)\n",
    "\n",
    "@property\n",
    "def test(self):\n",
    "  return self.make_dataset(self.test_df)\n",
    "\n",
    "@property\n",
    "def example(self):\n",
    "  \"\"\"Get and cache an example batch of `inputs, labels` for plotting.\"\"\"\n",
    "  result = getattr(self, '_example', None)\n",
    "  if result is None:\n",
    "    # No example batch was found, so get one from the `.train` dataset\n",
    "    result = next(iter(self.train))\n",
    "    # And cache it for next time\n",
    "    self._example = result\n",
    "  return result\n",
    "\n",
    "WindowGenerator.train = train\n",
    "WindowGenerator.val = val\n",
    "WindowGenerator.test = test\n",
    "WindowGenerator.example = example"
   ]
  },
  {
   "cell_type": "code",
   "execution_count": 405,
   "id": "consolidated-database",
   "metadata": {},
   "outputs": [
    {
     "data": {
      "text/plain": [
       "(TensorSpec(shape=(None, 6, 11), dtype=tf.float32, name=None),\n",
       " TensorSpec(shape=(None, 1, 1), dtype=tf.float32, name=None))"
      ]
     },
     "execution_count": 405,
     "metadata": {},
     "output_type": "execute_result"
    }
   ],
   "source": [
    "# Each element is an (inputs, label) pair\n",
    "w2.train.element_spec"
   ]
  },
  {
   "cell_type": "code",
   "execution_count": 406,
   "id": "earlier-edition",
   "metadata": {},
   "outputs": [
    {
     "name": "stdout",
     "output_type": "stream",
     "text": [
      "Inputs shape (batch, time, features): (32, 6, 11)\n",
      "Labels shape (batch, time, features): (32, 1, 1)\n"
     ]
    }
   ],
   "source": [
    "for example_inputs, example_labels in w2.train.take(1):\n",
    "  print(f'Inputs shape (batch, time, features): {example_inputs.shape}')\n",
    "  print(f'Labels shape (batch, time, features): {example_labels.shape}')"
   ]
  },
  {
   "cell_type": "code",
   "execution_count": 407,
   "id": "directed-place",
   "metadata": {},
   "outputs": [
    {
     "data": {
      "text/plain": [
       "Total window size: 2\n",
       "Input indices: [0]\n",
       "Label indices: [1]\n",
       "Label column name(s): ['measurements.1']"
      ]
     },
     "execution_count": 407,
     "metadata": {},
     "output_type": "execute_result"
    }
   ],
   "source": [
    "single_step_window = WindowGenerator(\n",
    "    input_width=1, label_width=1, shift=1,\n",
    "    label_columns=['measurements.1'])\n",
    "single_step_window"
   ]
  },
  {
   "cell_type": "code",
   "execution_count": 408,
   "id": "amateur-identification",
   "metadata": {},
   "outputs": [],
   "source": [
    "# baseline using \"no change\"\n",
    "class Baseline(tf.keras.Model):\n",
    "  def __init__(self, label_index=None):\n",
    "    super().__init__()\n",
    "    self.label_index = label_index\n",
    "\n",
    "  def call(self, inputs):\n",
    "    if self.label_index is None:\n",
    "      return inputs\n",
    "    result = inputs[:, :, self.label_index]\n",
    "    return result[:, :, tf.newaxis]"
   ]
  },
  {
   "cell_type": "code",
   "execution_count": 409,
   "id": "recorded-andorra",
   "metadata": {},
   "outputs": [
    {
     "name": "stdout",
     "output_type": "stream",
     "text": [
      "11/11 [==============================] - 0s 1ms/step - loss: 1.7588e-05 - mean_absolute_error: 0.0033\n"
     ]
    }
   ],
   "source": [
    "baseline = Baseline(label_index=column_indices['measurements.1'])\n",
    "\n",
    "baseline.compile(loss=tf.losses.MeanSquaredError(),\n",
    "                 metrics=[tf.metrics.MeanAbsoluteError()])\n",
    "\n",
    "val_performance = {}\n",
    "performance = {}\n",
    "val_performance['Baseline'] = baseline.evaluate(single_step_window.val)\n",
    "performance['Baseline'] = baseline.evaluate(single_step_window.test, verbose=0)"
   ]
  },
  {
   "cell_type": "code",
   "execution_count": 410,
   "id": "occupational-detective",
   "metadata": {},
   "outputs": [
    {
     "data": {
      "text/plain": [
       "Total window size: 13\n",
       "Input indices: [ 0  1  2  3  4  5  6  7  8  9 10 11]\n",
       "Label indices: [ 1  2  3  4  5  6  7  8  9 10 11 12]\n",
       "Label column name(s): ['measurements.1']"
      ]
     },
     "execution_count": 410,
     "metadata": {},
     "output_type": "execute_result"
    }
   ],
   "source": [
    "wide_window = WindowGenerator(\n",
    "    input_width=12, label_width=12, shift=1,\n",
    "    label_columns=['measurements.1'])\n",
    "\n",
    "wide_window"
   ]
  },
  {
   "cell_type": "code",
   "execution_count": 411,
   "id": "foster-mayor",
   "metadata": {},
   "outputs": [
    {
     "data": {
      "image/png": "[encoded data removed]",
      "text/plain": [
       "<Figure size 864x576 with 3 Axes>"
      ]
     },
     "metadata": {
      "needs_background": "light"
     },
     "output_type": "display_data"
    }
   ],
   "source": [
    "wide_window.plot(baseline)"
   ]
  },
  {
   "cell_type": "code",
   "execution_count": 412,
   "id": "endless-accent",
   "metadata": {},
   "outputs": [],
   "source": [
    "MAX_EPOCHS = 20\n",
    "\n",
    "def compile_and_fit(model, window, patience=2):\n",
    "  early_stopping = tf.keras.callbacks.EarlyStopping(monitor='val_loss',\n",
    "                                                    patience=patience,\n",
    "                                                    mode='min')\n",
    "\n",
    "  model.compile(loss=tf.losses.MeanSquaredError(),\n",
    "                optimizer=tf.optimizers.Adam(),\n",
    "                metrics=[tf.metrics.MeanAbsoluteError()])\n",
    "\n",
    "  history = model.fit(window.train, epochs=MAX_EPOCHS,\n",
    "                      validation_data=window.val,\n",
    "                      callbacks=[early_stopping])\n",
    "  return history"
   ]
  },
  {
   "cell_type": "code",
   "execution_count": 413,
   "id": "seeing-initial",
   "metadata": {},
   "outputs": [],
   "source": [
    "linear = tf.keras.Sequential([\n",
    "    tf.keras.layers.Dense(units=1)\n",
    "])"
   ]
  },
  {
   "cell_type": "code",
   "execution_count": 414,
   "id": "fuzzy-general",
   "metadata": {},
   "outputs": [
    {
     "name": "stdout",
     "output_type": "stream",
     "text": [
      "Epoch 1/20\n",
      "36/36 [==============================] - 0s 7ms/step - loss: 0.9856 - mean_absolute_error: 0.7962 - val_loss: 5.3278 - val_mean_absolute_error: 2.2984\n",
      "Epoch 2/20\n",
      "36/36 [==============================] - 0s 4ms/step - loss: 0.6825 - mean_absolute_error: 0.6924 - val_loss: 4.6503 - val_mean_absolute_error: 2.1476\n",
      "Epoch 3/20\n",
      "36/36 [==============================] - 0s 4ms/step - loss: 0.5378 - mean_absolute_error: 0.6428 - val_loss: 4.3159 - val_mean_absolute_error: 2.0696\n",
      "Epoch 4/20\n",
      "36/36 [==============================] - 0s 4ms/step - loss: 0.4446 - mean_absolute_error: 0.5919 - val_loss: 4.1603 - val_mean_absolute_error: 2.0325\n",
      "Epoch 5/20\n",
      "36/36 [==============================] - 0s 4ms/step - loss: 0.3837 - mean_absolute_error: 0.5499 - val_loss: 4.0797 - val_mean_absolute_error: 2.0129\n",
      "Epoch 6/20\n",
      "36/36 [==============================] - 0s 4ms/step - loss: 0.3395 - mean_absolute_error: 0.5189 - val_loss: 4.0403 - val_mean_absolute_error: 2.0033\n",
      "Epoch 7/20\n",
      "36/36 [==============================] - 0s 4ms/step - loss: 0.3032 - mean_absolute_error: 0.4895 - val_loss: 3.9637 - val_mean_absolute_error: 1.9840\n",
      "Epoch 8/20\n",
      "36/36 [==============================] - 0s 5ms/step - loss: 0.2694 - mean_absolute_error: 0.4613 - val_loss: 3.8854 - val_mean_absolute_error: 1.9640\n",
      "Epoch 9/20\n",
      "36/36 [==============================] - 0s 5ms/step - loss: 0.2535 - mean_absolute_error: 0.4403 - val_loss: 3.7678 - val_mean_absolute_error: 1.9335\n",
      "Epoch 10/20\n",
      "36/36 [==============================] - 0s 5ms/step - loss: 0.2296 - mean_absolute_error: 0.4149 - val_loss: 3.6536 - val_mean_absolute_error: 1.9034\n",
      "Epoch 11/20\n",
      "36/36 [==============================] - 0s 5ms/step - loss: 0.2117 - mean_absolute_error: 0.3944 - val_loss: 3.4807 - val_mean_absolute_error: 1.8568\n",
      "Epoch 12/20\n",
      "36/36 [==============================] - 0s 5ms/step - loss: 0.1976 - mean_absolute_error: 0.3794 - val_loss: 3.3793 - val_mean_absolute_error: 1.8287\n",
      "Epoch 13/20\n",
      "36/36 [==============================] - 0s 5ms/step - loss: 0.1718 - mean_absolute_error: 0.3517 - val_loss: 3.2243 - val_mean_absolute_error: 1.7851\n",
      "Epoch 14/20\n",
      "36/36 [==============================] - 0s 5ms/step - loss: 0.1648 - mean_absolute_error: 0.3408 - val_loss: 3.0510 - val_mean_absolute_error: 1.7350\n",
      "Epoch 15/20\n",
      "36/36 [==============================] - 0s 5ms/step - loss: 0.1508 - mean_absolute_error: 0.3237 - val_loss: 2.8950 - val_mean_absolute_error: 1.6886\n",
      "Epoch 16/20\n",
      "36/36 [==============================] - 0s 4ms/step - loss: 0.1431 - mean_absolute_error: 0.3082 - val_loss: 2.7289 - val_mean_absolute_error: 1.6377\n",
      "Epoch 17/20\n",
      "36/36 [==============================] - 0s 5ms/step - loss: 0.1292 - mean_absolute_error: 0.2927 - val_loss: 2.5869 - val_mean_absolute_error: 1.5927\n",
      "Epoch 18/20\n",
      "36/36 [==============================] - 0s 4ms/step - loss: 0.1201 - mean_absolute_error: 0.2816 - val_loss: 2.4250 - val_mean_absolute_error: 1.5399\n",
      "Epoch 19/20\n",
      "36/36 [==============================] - 0s 5ms/step - loss: 0.1075 - mean_absolute_error: 0.2621 - val_loss: 2.2433 - val_mean_absolute_error: 1.4785\n",
      "Epoch 20/20\n",
      "36/36 [==============================] - 0s 4ms/step - loss: 0.1025 - mean_absolute_error: 0.2550 - val_loss: 2.0924 - val_mean_absolute_error: 1.4253\n",
      "11/11 [==============================] - 0s 2ms/step - loss: 2.0924 - mean_absolute_error: 1.4253\n"
     ]
    }
   ],
   "source": [
    "history = compile_and_fit(linear, single_step_window)\n",
    "\n",
    "val_performance['Linear'] = linear.evaluate(single_step_window.val)\n",
    "performance['Linear'] = linear.evaluate(single_step_window.test, verbose=0)"
   ]
  },
  {
   "cell_type": "code",
   "execution_count": 415,
   "id": "beautiful-wisconsin",
   "metadata": {},
   "outputs": [
    {
     "data": {
      "image/png": "[encoded data removed]",
      "text/plain": [
       "<Figure size 864x576 with 3 Axes>"
      ]
     },
     "metadata": {
      "needs_background": "light"
     },
     "output_type": "display_data"
    }
   ],
   "source": [
    "wide_window.plot(linear)"
   ]
  },
  {
   "cell_type": "code",
   "execution_count": 416,
   "id": "interior-coaching",
   "metadata": {},
   "outputs": [
    {
     "data": {
      "image/png": "[encoded data removed]",
      "text/plain": [
       "<Figure size 432x288 with 1 Axes>"
      ]
     },
     "metadata": {
      "needs_background": "light"
     },
     "output_type": "display_data"
    }
   ],
   "source": [
    "plt.bar(x = range(len(train_df.columns)),\n",
    "        height=linear.layers[0].kernel[:,0].numpy())\n",
    "axis = plt.gca()\n",
    "axis.set_xticks(range(len(train_df.columns)))\n",
    "_ = axis.set_xticklabels(train_df.columns, rotation=90)"
   ]
  },
  {
   "cell_type": "code",
   "execution_count": 417,
   "id": "respected-april",
   "metadata": {},
   "outputs": [
    {
     "name": "stdout",
     "output_type": "stream",
     "text": [
      "Epoch 1/20\n",
      "36/36 [==============================] - 1s 8ms/step - loss: 0.6092 - mean_absolute_error: 0.6320 - val_loss: 0.1880 - val_mean_absolute_error: 0.4187\n",
      "Epoch 2/20\n",
      "36/36 [==============================] - 0s 4ms/step - loss: 0.0204 - mean_absolute_error: 0.1093 - val_loss: 0.0538 - val_mean_absolute_error: 0.1983\n",
      "Epoch 3/20\n",
      "36/36 [==============================] - 0s 5ms/step - loss: 0.0049 - mean_absolute_error: 0.0505 - val_loss: 0.0325 - val_mean_absolute_error: 0.1527\n",
      "Epoch 4/20\n",
      "36/36 [==============================] - 0s 5ms/step - loss: 0.0030 - mean_absolute_error: 0.0382 - val_loss: 0.0214 - val_mean_absolute_error: 0.1319\n",
      "Epoch 5/20\n",
      "36/36 [==============================] - 0s 5ms/step - loss: 0.0017 - mean_absolute_error: 0.0280 - val_loss: 0.0260 - val_mean_absolute_error: 0.1364\n",
      "Epoch 6/20\n",
      "36/36 [==============================] - 0s 5ms/step - loss: 0.0011 - mean_absolute_error: 0.0233 - val_loss: 0.0306 - val_mean_absolute_error: 0.1407\n",
      "11/11 [==============================] - 0s 1ms/step - loss: 0.0306 - mean_absolute_error: 0.1407\n"
     ]
    }
   ],
   "source": [
    "dense = tf.keras.Sequential([\n",
    "    tf.keras.layers.Dense(units=64, activation='relu'),\n",
    "    tf.keras.layers.Dense(units=64, activation='relu'),\n",
    "    tf.keras.layers.Dense(units=1)\n",
    "])\n",
    "\n",
    "history = compile_and_fit(dense, single_step_window)\n",
    "\n",
    "val_performance['Dense'] = dense.evaluate(single_step_window.val)\n",
    "performance['Dense'] = dense.evaluate(single_step_window.test, verbose=0)"
   ]
  },
  {
   "cell_type": "code",
   "execution_count": 419,
   "id": "logical-wrong",
   "metadata": {},
   "outputs": [
    {
     "data": {
      "text/plain": [
       "Total window size: 4\n",
       "Input indices: [0 1 2]\n",
       "Label indices: [3]\n",
       "Label column name(s): ['measurements.1']"
      ]
     },
     "execution_count": 419,
     "metadata": {},
     "output_type": "execute_result"
    }
   ],
   "source": [
    "CONV_WIDTH = 3\n",
    "conv_window = WindowGenerator(\n",
    "    input_width=CONV_WIDTH,\n",
    "    label_width=1,\n",
    "    shift=1,\n",
    "    label_columns=['measurements.1'])\n",
    "\n",
    "conv_window"
   ]
  },
  {
   "cell_type": "code",
   "execution_count": 420,
   "id": "substantial-crossing",
   "metadata": {},
   "outputs": [
    {
     "data": {
      "text/plain": [
       "Text(0.5, 1.0, 'Given 3h as input, predict 1h into the future.')"
      ]
     },
     "execution_count": 420,
     "metadata": {},
     "output_type": "execute_result"
    },
    {
     "data": {
      "image/png": "[encoded data removed]",
      "text/plain": [
       "<Figure size 864x576 with 3 Axes>"
      ]
     },
     "metadata": {
      "needs_background": "light"
     },
     "output_type": "display_data"
    }
   ],
   "source": [
    "conv_window.plot()\n",
    "plt.title(\"Given 3h as input, predict 1h into the future.\")"
   ]
  },
  {
   "cell_type": "code",
   "execution_count": 421,
   "id": "precious-spokesman",
   "metadata": {},
   "outputs": [],
   "source": [
    "multi_step_dense = tf.keras.Sequential([\n",
    "    # Shape: (time, features) => (time*features)\n",
    "    tf.keras.layers.Flatten(),\n",
    "    tf.keras.layers.Dense(units=32, activation='relu'),\n",
    "    tf.keras.layers.Dense(units=32, activation='relu'),\n",
    "    tf.keras.layers.Dense(units=1),\n",
    "    # Add back the time dimension.\n",
    "    # Shape: (outputs) => (1, outputs)\n",
    "    tf.keras.layers.Reshape([1, -1]),\n",
    "])"
   ]
  },
  {
   "cell_type": "code",
   "execution_count": 424,
   "id": "copyrighted-public",
   "metadata": {},
   "outputs": [
    {
     "name": "stdout",
     "output_type": "stream",
     "text": [
      "10/10 [==============================] - 0s 2ms/step - loss: 0.0996 - mean_absolute_error: 0.2989\n"
     ]
    }
   ],
   "source": [
    "history = compile_and_fit(multi_step_dense, conv_window)\n",
    "\n",
    "IPython.display.clear_output()\n",
    "val_performance['Multi step dense'] = multi_step_dense.evaluate(conv_window.val)\n",
    "performance['Multi step dense'] = multi_step_dense.evaluate(conv_window.test, verbose=0)"
   ]
  },
  {
   "cell_type": "code",
   "execution_count": 425,
   "id": "expensive-photograph",
   "metadata": {},
   "outputs": [
    {
     "data": {
      "image/png": "[encoded data removed]",
      "text/plain": [
       "<Figure size 864x576 with 3 Axes>"
      ]
     },
     "metadata": {
      "needs_background": "light"
     },
     "output_type": "display_data"
    }
   ],
   "source": [
    "conv_window.plot(multi_step_dense)"
   ]
  },
  {
   "cell_type": "code",
   "execution_count": 426,
   "id": "hindu-passport",
   "metadata": {},
   "outputs": [],
   "source": [
    "lstm_model = tf.keras.models.Sequential([\n",
    "    # Shape [batch, time, features] => [batch, time, lstm_units]\n",
    "    tf.keras.layers.LSTM(32, return_sequences=True),\n",
    "    # Shape => [batch, time, features]\n",
    "    tf.keras.layers.Dense(units=1)\n",
    "])"
   ]
  },
  {
   "cell_type": "code",
   "execution_count": 428,
   "id": "announced-fitness",
   "metadata": {},
   "outputs": [
    {
     "name": "stdout",
     "output_type": "stream",
     "text": [
      "Input shape: (32, 12, 11)\n",
      "Output shape: (32, 12, 1)\n"
     ]
    }
   ],
   "source": [
    "print('Input shape:', wide_window.example[0].shape)\n",
    "print('Output shape:', lstm_model(wide_window.example[0]).shape)"
   ]
  },
  {
   "cell_type": "code",
   "execution_count": 429,
   "id": "cheap-default",
   "metadata": {},
   "outputs": [
    {
     "name": "stdout",
     "output_type": "stream",
     "text": [
      "Baseline    : 0.0077\n",
      "Linear      : 2.6584\n",
      "Dense       : 0.4514\n",
      "Multi step dense: 0.9333\n"
     ]
    }
   ],
   "source": [
    "for name, value in performance.items():\n",
    "  print(f'{name:12s}: {value[1]:0.4f}')"
   ]
  },
  {
   "cell_type": "code",
   "execution_count": null,
   "id": "ideal-wales",
   "metadata": {},
   "outputs": [],
   "source": []
  }
 ],
 "metadata": {
  "kernelspec": {
   "display_name": "pyenv-tms-demo",
   "language": "python",
   "name": "tms-demo"
  },
  "language_info": {
   "codemirror_mode": {
    "name": "ipython",
    "version": 3
   },
   "file_extension": ".py",
   "mimetype": "text/x-python",
   "name": "python",
   "nbconvert_exporter": "python",
   "pygments_lexer": "ipython3",
   "version": "3.7.2"
  }
 },
 "nbformat": 4,
 "nbformat_minor": 5
}
