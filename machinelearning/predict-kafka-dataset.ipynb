{
 "cells": [
  {
   "cell_type": "code",
   "execution_count": 2,
   "id": "relative-acquisition",
   "metadata": {},
   "outputs": [],
   "source": [
    "import os\n",
    "import datetime\n",
    "\n",
    "import pandas as pd\n",
    "import seaborn as sns\n",
    "import tensorflow as tf\n",
    "\n",
    "import matplotlib as mpl\n",
    "import matplotlib.pyplot as plt\n",
    "\n",
    "import numpy as np\n",
    "\n",
    "from tqdm import tqdm\n",
    "\n",
    "from confluent_kafka import avro, Consumer, KafkaError, KafkaException\n",
    "from confluent_kafka.avro import CachedSchemaRegistryClient\n",
    "from confluent_kafka.avro.serializer.message_serializer import MessageSerializer as AvroSerde\n"
   ]
  },
  {
   "cell_type": "code",
   "execution_count": null,
   "id": "behavioral-ukraine",
   "metadata": {},
   "outputs": [],
   "source": [
    "# load the model first before we start filling GPU mem with other stuff\n",
    "# NOTE! If running on notebook env make sure you don't have other kernels consuming GPU mem\n",
    "saved_model = tf.keras.models.load_model('multi_lstm')"
   ]
  },
  {
   "cell_type": "code",
   "execution_count": 4,
   "id": "lesser-anime",
   "metadata": {},
   "outputs": [],
   "source": [
    "def wind_vector(self, velocity, max_velocity, direction):\n",
    "    # Convert to radians.\n",
    "    wd_rad = direction*np.pi / 180\n",
    "    self['Wx'] = velocity*np.cos(wd_rad)\n",
    "    self['Wy'] = velocity*np.sin(wd_rad)\n",
    "    self['max Wx'] = max_velocity*np.cos(wd_rad)\n",
    "    self['max Wy'] = max_velocity*np.sin(wd_rad)\n",
    "pd.DataFrame.wind_vector = wind_vector"
   ]
  },
  {
   "cell_type": "code",
   "execution_count": 5,
   "id": "proud-pennsylvania",
   "metadata": {},
   "outputs": [],
   "source": [
    "def tod_signal(self, date_time):\n",
    "    day = 24*60*60\n",
    "    year = (365.2425)*day\n",
    "    timestamp_s = date_time.map(datetime.datetime.timestamp)\n",
    "    self['Day sin'] = np.sin(timestamp_s * (2 * np.pi / day))\n",
    "    self['Day cos'] = np.cos(timestamp_s * (2 * np.pi / day))\n",
    "    self['Year sin'] = np.sin(timestamp_s * (2 * np.pi / year))\n",
    "    self['Year cos'] = np.cos(timestamp_s * (2 * np.pi / year))\n",
    "pd.DataFrame.tod_signal = tod_signal"
   ]
  },
  {
   "cell_type": "code",
   "execution_count": 6,
   "id": "theoretical-mongolia",
   "metadata": {},
   "outputs": [
    {
     "name": "stderr",
     "output_type": "stream",
     "text": [
      "<ipython-input-6-acda987d28b0>:1: DeprecationWarning: CachedSchemaRegistry constructor is being deprecated. Use CachedSchemaRegistryClient(dict: config) instead. Existing params ca_location, cert_location and key_location will be replaced with their librdkafka equivalents as keys in the conf dict: `ssl.ca.location`, `ssl.certificate.location` and `ssl.key.location` respectively\n",
      "  schema_registry = CachedSchemaRegistryClient(os.getenv(\"SCHEMA_REGISTRY\"))\n"
     ]
    }
   ],
   "source": [
    "schema_registry = CachedSchemaRegistryClient(os.getenv(\"SCHEMA_REGISTRY\"))\n",
    "avro_serde = AvroSerde(schema_registry)\n",
    "deserialize_avro = avro_serde.decode_message"
   ]
  },
  {
   "cell_type": "code",
   "execution_count": 8,
   "id": "mechanical-landing",
   "metadata": {},
   "outputs": [],
   "source": [
    "def create_client():    \n",
    "\n",
    "    consumer_config = {\"bootstrap.servers\": os.getenv(\"BOOTSTRAP_SERVERS\"),                        \n",
    "                        \"group.id\": \"sami-local-test-16\",\n",
    "                        \"max.poll.interval.ms\": 30000,\n",
    "                        \"session.timeout.ms\": 20000,\n",
    "                        \"default.topic.config\": {\"auto.offset.reset\": \"earliest\"},\n",
    "                        \"security.protocol\": \"SSL\",\n",
    "                        \"ssl.ca.location\": \"../tms-secrets/processing/ca.pem\",\n",
    "                        \"ssl.certificate.location\": \"../tms-secrets/processing/service.cert\",\n",
    "                        \"ssl.key.location\": \"../tms-secrets/processing/service.key\"\n",
    "                       }\n",
    "\n",
    "    return Consumer(consumer_config)  "
   ]
  },
  {
   "cell_type": "code",
   "execution_count": 9,
   "id": "broke-bahamas",
   "metadata": {},
   "outputs": [],
   "source": [
    "dataset_dict = []\n",
    "def consume_records():\n",
    "    client = create_client()\n",
    "    client.subscribe([\"observations.weather.multivariate\"])\n",
    "    i = 0\n",
    "    for i in tqdm(range(400000)):\n",
    "        msg = client.poll(10)\n",
    "        if msg is None: continue\n",
    "        \n",
    "        if msg.error():\n",
    "            if msg.error().code() == KafkaError._PARTITION_EOF:\n",
    "                # End of partition event\n",
    "                sys.stderr.write('%% %s [%d] reached end at offset %d\\n' %\n",
    "                                 (msg.topic(), msg.partition(), msg.offset()))\n",
    "            elif msg.error():\n",
    "                raise KafkaException(msg.error())\n",
    "        else:\n",
    "            value = deserialize_avro(message=msg.value(), is_key=False)\n",
    "            dataset_dict.append(value)\n",
    "            pass\n",
    "    client.close()"
   ]
  },
  {
   "cell_type": "code",
   "execution_count": 10,
   "id": "northern-miracle",
   "metadata": {},
   "outputs": [
    {
     "name": "stderr",
     "output_type": "stream",
     "text": [
      "100%|██████████| 400000/400000 [00:47<00:00, 8410.47it/s] \n"
     ]
    }
   ],
   "source": [
    "# input dateset from Kafka\n",
    "consume_records()\n",
    "kafka_df = pd.json_normalize(dataset_dict)\n",
    "kafka_df['measuredTime'] = pd.to_datetime(kafka_df['measuredTime'] * 1000 * 1000)\n"
   ]
  },
  {
   "cell_type": "code",
   "execution_count": 11,
   "id": "hidden-sandwich",
   "metadata": {},
   "outputs": [
    {
     "name": "stdout",
     "output_type": "stream",
     "text": [
      "<class 'pandas.core.frame.DataFrame'>\n",
      "DatetimeIndex: 400000 entries, 2021-02-08 07:52:00 to 2021-02-11 01:18:00\n",
      "Data columns (total 7 columns):\n",
      " #   Column           Non-Null Count   Dtype  \n",
      "---  ------           --------------   -----  \n",
      " 0   roadStationId    400000 non-null  int64  \n",
      " 1   measurements.19  10879 non-null   float64\n",
      " 2   measurements.21  394016 non-null  float64\n",
      " 3   measurements.1   394703 non-null  float64\n",
      " 4   measurements.18  350387 non-null  float64\n",
      " 5   measurements.17  331778 non-null  float64\n",
      " 6   measurements.16  350438 non-null  float64\n",
      "dtypes: float64(6), int64(1)\n",
      "memory usage: 24.4 MB\n"
     ]
    }
   ],
   "source": [
    "# select features\n",
    "columns = ['roadStationId', 'measuredTime', 'measurements.19', 'measurements.21', 'measurements.1', 'measurements.18', 'measurements.17', 'measurements.16']\n",
    "kafka_df = kafka_df[columns]\n",
    "kafka_df.index = kafka_df['measuredTime']\n",
    "del kafka_df['measuredTime']\n",
    "kafka_df.info()"
   ]
  },
  {
   "cell_type": "code",
   "execution_count": 12,
   "id": "extended-marine",
   "metadata": {},
   "outputs": [],
   "source": [
    "# fill gaps\n",
    "kafka_interpo = kafka_df.groupby('roadStationId').resample('600s').mean().interpolate()\n",
    "del kafka_interpo['roadStationId']\n",
    "len(kafka_interpo.index.unique(level='roadStationId'))\n",
    "# drop weather stations that can't provide all needed features\n",
    "kafka_interpo = kafka_interpo.dropna()\n",
    "kafka_interpo = kafka_interpo.iloc[kafka_interpo.index.get_level_values(0) == 2052]"
   ]
  },
  {
   "cell_type": "code",
   "execution_count": 13,
   "id": "constitutional-external",
   "metadata": {},
   "outputs": [],
   "source": [
    "# create wind vectors from velocity and direction\n",
    "kafka_interpo.wind_vector(kafka_interpo.pop('measurements.16'), kafka_interpo.pop('measurements.17'), kafka_interpo.pop('measurements.18'))"
   ]
  },
  {
   "cell_type": "code",
   "execution_count": 14,
   "id": "bigger-republican",
   "metadata": {},
   "outputs": [
    {
     "data": {
      "text/plain": [
       "(-1.7989034886343724,\n",
       " 4.642610406308233,\n",
       " -1.5999390769026742,\n",
       " 4.603728439358909)"
      ]
     },
     "execution_count": 14,
     "metadata": {},
     "output_type": "execute_result"
    },
    {
     "data": {
      "image/png": "[encoded data removed]",
      "text/plain": [
       "<Figure size 432x288 with 2 Axes>"
      ]
     },
     "metadata": {
      "needs_background": "light"
     },
     "output_type": "display_data"
    }
   ],
   "source": [
    "plt.hist2d(kafka_interpo['max Wx'], kafka_interpo['max Wy'], bins=(50, 50), vmax=10)\n",
    "plt.colorbar()\n",
    "plt.xlabel('Wind X [m/s]')\n",
    "plt.ylabel('Wind Y [m/s]')\n",
    "ax = plt.gca()\n",
    "ax.axis('tight')"
   ]
  },
  {
   "cell_type": "code",
   "execution_count": 15,
   "id": "smart-external",
   "metadata": {},
   "outputs": [],
   "source": [
    "# calculate time of day signal from time index\n",
    "kafka_interpo.tod_signal(kafka_interpo.index.get_level_values('measuredTime'))"
   ]
  },
  {
   "cell_type": "code",
   "execution_count": 16,
   "id": "bulgarian-price",
   "metadata": {},
   "outputs": [],
   "source": [
    "column_names = pd.read_csv('predict/trainset_columns.csv', index_col=0)\n",
    "kafka_interpo.columns = column_names['0'].values"
   ]
  },
  {
   "cell_type": "code",
   "execution_count": 17,
   "id": "informed-fiction",
   "metadata": {},
   "outputs": [
    {
     "data": {
      "text/plain": [
       "(451, 11)"
      ]
     },
     "execution_count": 17,
     "metadata": {},
     "output_type": "execute_result"
    }
   ],
   "source": [
    "# Normalize\n",
    "train_mean = pd.read_pickle('predict/train_mean.pkl')\n",
    "train_std = pd.read_pickle('predict/train_std.pkl')\n",
    "kafka_norm = (kafka_interpo - train_mean) / train_std\n",
    "kafka_norm.shape"
   ]
  },
  {
   "cell_type": "code",
   "execution_count": 18,
   "id": "opposed-definition",
   "metadata": {},
   "outputs": [
    {
     "data": {
      "text/html": [
       "<div>\n",
       "<style scoped>\n",
       "    .dataframe tbody tr th:only-of-type {\n",
       "        vertical-align: middle;\n",
       "    }\n",
       "\n",
       "    .dataframe tbody tr th {\n",
       "        vertical-align: top;\n",
       "    }\n",
       "\n",
       "    .dataframe thead th {\n",
       "        text-align: right;\n",
       "    }\n",
       "</style>\n",
       "<table border=\"1\" class=\"dataframe\">\n",
       "  <thead>\n",
       "    <tr style=\"text-align: right;\">\n",
       "      <th></th>\n",
       "      <th></th>\n",
       "      <th>Ilmanpaine (msl) (hPa)</th>\n",
       "      <th>Suhteellinen kosteus (%)</th>\n",
       "      <th>Ilman lämpötila (degC)</th>\n",
       "      <th>Wx</th>\n",
       "      <th>Wy</th>\n",
       "      <th>max Wx</th>\n",
       "      <th>max Wy</th>\n",
       "      <th>Day sin</th>\n",
       "      <th>Day cos</th>\n",
       "      <th>Year sin</th>\n",
       "      <th>Year cos</th>\n",
       "    </tr>\n",
       "    <tr>\n",
       "      <th>roadStationId</th>\n",
       "      <th>measuredTime</th>\n",
       "      <th></th>\n",
       "      <th></th>\n",
       "      <th></th>\n",
       "      <th></th>\n",
       "      <th></th>\n",
       "      <th></th>\n",
       "      <th></th>\n",
       "      <th></th>\n",
       "      <th></th>\n",
       "      <th></th>\n",
       "      <th></th>\n",
       "    </tr>\n",
       "  </thead>\n",
       "  <tbody>\n",
       "    <tr>\n",
       "      <th rowspan=\"10\" valign=\"top\">2052</th>\n",
       "      <th>2021-02-08 08:00:00</th>\n",
       "      <td>1.067398</td>\n",
       "      <td>1.021276</td>\n",
       "      <td>-1.635873</td>\n",
       "      <td>0.369706</td>\n",
       "      <td>0.407447</td>\n",
       "      <td>0.477036</td>\n",
       "      <td>0.500380</td>\n",
       "      <td>1.414209</td>\n",
       "      <td>7.488827e-12</td>\n",
       "      <td>0.842557</td>\n",
       "      <td>1.183837</td>\n",
       "    </tr>\n",
       "    <tr>\n",
       "      <th>2021-02-08 08:10:00</th>\n",
       "      <td>1.067398</td>\n",
       "      <td>1.021276</td>\n",
       "      <td>-1.538948</td>\n",
       "      <td>0.325003</td>\n",
       "      <td>0.457637</td>\n",
       "      <td>0.466211</td>\n",
       "      <td>0.635944</td>\n",
       "      <td>1.412863</td>\n",
       "      <td>-6.168693e-02</td>\n",
       "      <td>0.842688</td>\n",
       "      <td>1.183731</td>\n",
       "    </tr>\n",
       "    <tr>\n",
       "      <th>2021-02-08 08:20:00</th>\n",
       "      <td>1.067398</td>\n",
       "      <td>1.021276</td>\n",
       "      <td>-1.442023</td>\n",
       "      <td>0.399090</td>\n",
       "      <td>0.548444</td>\n",
       "      <td>0.518566</td>\n",
       "      <td>0.700332</td>\n",
       "      <td>1.408827</td>\n",
       "      <td>-1.232564e-01</td>\n",
       "      <td>0.842819</td>\n",
       "      <td>1.183625</td>\n",
       "    </tr>\n",
       "    <tr>\n",
       "      <th>2021-02-08 08:30:00</th>\n",
       "      <td>1.058764</td>\n",
       "      <td>1.021276</td>\n",
       "      <td>-1.388175</td>\n",
       "      <td>0.528878</td>\n",
       "      <td>0.579902</td>\n",
       "      <td>0.762232</td>\n",
       "      <td>0.800915</td>\n",
       "      <td>1.402110</td>\n",
       "      <td>-1.845913e-01</td>\n",
       "      <td>0.842949</td>\n",
       "      <td>1.183518</td>\n",
       "    </tr>\n",
       "    <tr>\n",
       "      <th>2021-02-08 08:40:00</th>\n",
       "      <td>1.058764</td>\n",
       "      <td>1.021276</td>\n",
       "      <td>-1.334328</td>\n",
       "      <td>0.522348</td>\n",
       "      <td>0.587766</td>\n",
       "      <td>0.752080</td>\n",
       "      <td>0.813182</td>\n",
       "      <td>1.392724</td>\n",
       "      <td>-2.455748e-01</td>\n",
       "      <td>0.843080</td>\n",
       "      <td>1.183412</td>\n",
       "    </tr>\n",
       "    <tr>\n",
       "      <th>2021-02-08 08:50:00</th>\n",
       "      <td>1.058764</td>\n",
       "      <td>0.870612</td>\n",
       "      <td>-1.302019</td>\n",
       "      <td>0.636669</td>\n",
       "      <td>0.629675</td>\n",
       "      <td>0.791465</td>\n",
       "      <td>0.763004</td>\n",
       "      <td>1.380686</td>\n",
       "      <td>-3.060908e-01</td>\n",
       "      <td>0.843211</td>\n",
       "      <td>1.183305</td>\n",
       "    </tr>\n",
       "    <tr>\n",
       "      <th>2021-02-08 09:00:00</th>\n",
       "      <td>1.063081</td>\n",
       "      <td>0.669726</td>\n",
       "      <td>-1.302019</td>\n",
       "      <td>0.636669</td>\n",
       "      <td>0.629675</td>\n",
       "      <td>0.854350</td>\n",
       "      <td>0.815528</td>\n",
       "      <td>1.366021</td>\n",
       "      <td>-3.660242e-01</td>\n",
       "      <td>0.843341</td>\n",
       "      <td>1.183199</td>\n",
       "    </tr>\n",
       "    <tr>\n",
       "      <th>2021-02-08 09:10:00</th>\n",
       "      <td>1.067398</td>\n",
       "      <td>0.468840</td>\n",
       "      <td>-1.302019</td>\n",
       "      <td>0.636669</td>\n",
       "      <td>0.629675</td>\n",
       "      <td>0.917236</td>\n",
       "      <td>0.868053</td>\n",
       "      <td>1.348755</td>\n",
       "      <td>-4.252608e-01</td>\n",
       "      <td>0.843472</td>\n",
       "      <td>1.183092</td>\n",
       "    </tr>\n",
       "    <tr>\n",
       "      <th>2021-02-08 09:20:00</th>\n",
       "      <td>1.067398</td>\n",
       "      <td>0.267955</td>\n",
       "      <td>-1.248172</td>\n",
       "      <td>0.565265</td>\n",
       "      <td>0.530281</td>\n",
       "      <td>0.818801</td>\n",
       "      <td>0.723509</td>\n",
       "      <td>1.328922</td>\n",
       "      <td>-4.836879e-01</td>\n",
       "      <td>0.843603</td>\n",
       "      <td>1.182985</td>\n",
       "    </tr>\n",
       "    <tr>\n",
       "      <th>2021-02-08 09:30:00</th>\n",
       "      <td>1.067398</td>\n",
       "      <td>0.197645</td>\n",
       "      <td>-1.228787</td>\n",
       "      <td>0.576606</td>\n",
       "      <td>0.554738</td>\n",
       "      <td>0.862837</td>\n",
       "      <td>0.782319</td>\n",
       "      <td>1.306559</td>\n",
       "      <td>-5.411943e-01</td>\n",
       "      <td>0.843733</td>\n",
       "      <td>1.182879</td>\n",
       "    </tr>\n",
       "  </tbody>\n",
       "</table>\n",
       "</div>"
      ],
      "text/plain": [
       "                                   Ilmanpaine (msl) (hPa)  \\\n",
       "roadStationId measuredTime                                  \n",
       "2052          2021-02-08 08:00:00                1.067398   \n",
       "              2021-02-08 08:10:00                1.067398   \n",
       "              2021-02-08 08:20:00                1.067398   \n",
       "              2021-02-08 08:30:00                1.058764   \n",
       "              2021-02-08 08:40:00                1.058764   \n",
       "              2021-02-08 08:50:00                1.058764   \n",
       "              2021-02-08 09:00:00                1.063081   \n",
       "              2021-02-08 09:10:00                1.067398   \n",
       "              2021-02-08 09:20:00                1.067398   \n",
       "              2021-02-08 09:30:00                1.067398   \n",
       "\n",
       "                                   Suhteellinen kosteus (%)  \\\n",
       "roadStationId measuredTime                                    \n",
       "2052          2021-02-08 08:00:00                  1.021276   \n",
       "              2021-02-08 08:10:00                  1.021276   \n",
       "              2021-02-08 08:20:00                  1.021276   \n",
       "              2021-02-08 08:30:00                  1.021276   \n",
       "              2021-02-08 08:40:00                  1.021276   \n",
       "              2021-02-08 08:50:00                  0.870612   \n",
       "              2021-02-08 09:00:00                  0.669726   \n",
       "              2021-02-08 09:10:00                  0.468840   \n",
       "              2021-02-08 09:20:00                  0.267955   \n",
       "              2021-02-08 09:30:00                  0.197645   \n",
       "\n",
       "                                   Ilman lämpötila (degC)        Wx        Wy  \\\n",
       "roadStationId measuredTime                                                      \n",
       "2052          2021-02-08 08:00:00               -1.635873  0.369706  0.407447   \n",
       "              2021-02-08 08:10:00               -1.538948  0.325003  0.457637   \n",
       "              2021-02-08 08:20:00               -1.442023  0.399090  0.548444   \n",
       "              2021-02-08 08:30:00               -1.388175  0.528878  0.579902   \n",
       "              2021-02-08 08:40:00               -1.334328  0.522348  0.587766   \n",
       "              2021-02-08 08:50:00               -1.302019  0.636669  0.629675   \n",
       "              2021-02-08 09:00:00               -1.302019  0.636669  0.629675   \n",
       "              2021-02-08 09:10:00               -1.302019  0.636669  0.629675   \n",
       "              2021-02-08 09:20:00               -1.248172  0.565265  0.530281   \n",
       "              2021-02-08 09:30:00               -1.228787  0.576606  0.554738   \n",
       "\n",
       "                                     max Wx    max Wy   Day sin       Day cos  \\\n",
       "roadStationId measuredTime                                                      \n",
       "2052          2021-02-08 08:00:00  0.477036  0.500380  1.414209  7.488827e-12   \n",
       "              2021-02-08 08:10:00  0.466211  0.635944  1.412863 -6.168693e-02   \n",
       "              2021-02-08 08:20:00  0.518566  0.700332  1.408827 -1.232564e-01   \n",
       "              2021-02-08 08:30:00  0.762232  0.800915  1.402110 -1.845913e-01   \n",
       "              2021-02-08 08:40:00  0.752080  0.813182  1.392724 -2.455748e-01   \n",
       "              2021-02-08 08:50:00  0.791465  0.763004  1.380686 -3.060908e-01   \n",
       "              2021-02-08 09:00:00  0.854350  0.815528  1.366021 -3.660242e-01   \n",
       "              2021-02-08 09:10:00  0.917236  0.868053  1.348755 -4.252608e-01   \n",
       "              2021-02-08 09:20:00  0.818801  0.723509  1.328922 -4.836879e-01   \n",
       "              2021-02-08 09:30:00  0.862837  0.782319  1.306559 -5.411943e-01   \n",
       "\n",
       "                                   Year sin  Year cos  \n",
       "roadStationId measuredTime                             \n",
       "2052          2021-02-08 08:00:00  0.842557  1.183837  \n",
       "              2021-02-08 08:10:00  0.842688  1.183731  \n",
       "              2021-02-08 08:20:00  0.842819  1.183625  \n",
       "              2021-02-08 08:30:00  0.842949  1.183518  \n",
       "              2021-02-08 08:40:00  0.843080  1.183412  \n",
       "              2021-02-08 08:50:00  0.843211  1.183305  \n",
       "              2021-02-08 09:00:00  0.843341  1.183199  \n",
       "              2021-02-08 09:10:00  0.843472  1.183092  \n",
       "              2021-02-08 09:20:00  0.843603  1.182985  \n",
       "              2021-02-08 09:30:00  0.843733  1.182879  "
      ]
     },
     "execution_count": 18,
     "metadata": {},
     "output_type": "execute_result"
    }
   ],
   "source": [
    "kafka_norm.head(10)"
   ]
  },
  {
   "cell_type": "code",
   "execution_count": null,
   "id": "published-union",
   "metadata": {},
   "outputs": [],
   "source": [
    "\n"
   ]
  },
  {
   "cell_type": "code",
   "execution_count": 20,
   "id": "virtual-philippines",
   "metadata": {},
   "outputs": [],
   "source": [
    "inpslic = slice(-6*24,None)\n",
    "inputdf = kafka_norm[inpslic]\n",
    "data = np.array(inputdf, dtype=np.float32)\n",
    "input = tf.keras.preprocessing.timeseries_dataset_from_array(\n",
    "      data=data,\n",
    "      targets=None,\n",
    "      sequence_length=len(inputdf),\n",
    "      sequence_stride=1,\n",
    "      shuffle=True,\n",
    "      batch_size=32,)\n",
    "y = saved_model.predict(input);\n",
    "#y = repeat_baseline.predict(input);\n",
    "\n",
    "result = pd.DataFrame(y[0,:], columns=kafka_norm.columns)\n",
    "#result.columns = train_df.columns\n",
    "result = train_std * result + train_mean\n",
    "# we predicted next 24h\n",
    "result['date'] = inputdf.index.get_level_values(1) + pd.Timedelta('1 day')\n",
    "result = result.set_index('date').add_prefix('pred_')\n",
    "\n",
    "all = pd.concat([result, kafka_interpo.droplevel('roadStationId')], axis=1)"
   ]
  },
  {
   "cell_type": "code",
   "execution_count": 21,
   "id": "filled-palestine",
   "metadata": {},
   "outputs": [
    {
     "data": {
      "text/plain": [
       "<AxesSubplot:>"
      ]
     },
     "execution_count": 21,
     "metadata": {},
     "output_type": "execute_result"
    },
    {
     "data": {
      "image/png": "[encoded data removed]",
      "text/plain": [
       "<Figure size 432x288 with 1 Axes>"
      ]
     },
     "metadata": {
      "needs_background": "light"
     },
     "output_type": "display_data"
    }
   ],
   "source": [
    "mask = all.columns.str.contains('.*lämpötila.*|.*Suhteellinen.*')\n",
    "all.sort_index().loc[:,mask].plot()\n",
    "#all['Ilman lämpötila (degC)'].plot()"
   ]
  },
  {
   "cell_type": "code",
   "execution_count": null,
   "id": "several-arbitration",
   "metadata": {},
   "outputs": [],
   "source": []
  }
 ],
 "metadata": {
  "kernelspec": {
   "display_name": "tensorflow-venv",
   "language": "python",
   "name": "tensorflow-venv"
  },
  "language_info": {
   "codemirror_mode": {
    "name": "ipython",
    "version": 3
   },
   "file_extension": ".py",
   "mimetype": "text/x-python",
   "name": "python",
   "nbconvert_exporter": "python",
   "pygments_lexer": "ipython3",
   "version": "3.8.6"
  }
 },
 "nbformat": 4,
 "nbformat_minor": 5
}
